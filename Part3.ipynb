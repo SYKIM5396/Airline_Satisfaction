{
  "nbformat": 4,
  "nbformat_minor": 0,
  "metadata": {
    "colab": {
      "provenance": [],
      "collapsed_sections": [],
      "toc_visible": true,
      "authorship_tag": "ABX9TyM2FdWlMLCjBn8xzzSNcrQl",
      "include_colab_link": true
    },
    "kernelspec": {
      "name": "python3",
      "display_name": "Python 3"
    },
    "language_info": {
      "name": "python"
    }
  },
  "cells": [
    {
      "cell_type": "markdown",
      "metadata": {
        "id": "view-in-github",
        "colab_type": "text"
      },
      "source": [
        "<a href=\"https://colab.research.google.com/github/SYKIM5396/Airline_Satisfaction/blob/main/Part3.ipynb\" target=\"_parent\"><img src=\"https://colab.research.google.com/assets/colab-badge.svg\" alt=\"Open In Colab\"/></a>"
      ]
    },
    {
      "cell_type": "code",
      "source": [
        "!pip install category_encoders\n",
        "!pip install --upgrade xgboost\n",
        "!pip install --upgrade lightgbm"
      ],
      "metadata": {
        "id": "eDgxvHQchXO_"
      },
      "execution_count": null,
      "outputs": []
    },
    {
      "cell_type": "code",
      "execution_count": 2,
      "metadata": {
        "id": "bGztgUC-ctTR"
      },
      "outputs": [],
      "source": [
        "import pandas as pd\n",
        "import matplotlib.pyplot as plt\n",
        "import seaborn as sns\n",
        "from pandas_profiling import ProfileReport\n",
        "\n",
        "%matplotlib inline\n",
        "plt.rcParams[\"figure.dpi\"] = 144\n",
        "\n",
        "import numpy as np\n",
        "from sklearn.model_selection import train_test_split\n",
        "from category_encoders import OneHotEncoder, OrdinalEncoder\n",
        "from xgboost import XGBClassifier\n",
        "from sklearn.impute import SimpleImputer\n",
        "from sklearn.pipeline import make_pipeline\n",
        "from sklearn.metrics import classification_report\n",
        "from sklearn.preprocessing import StandardScaler\n",
        "from sklearn.linear_model import LogisticRegression\n",
        "from sklearn.linear_model import LogisticRegressionCV\n",
        "from sklearn.metrics import f1_score\n",
        "from sklearn.tree import DecisionTreeClassifier\n",
        "from sklearn.ensemble import RandomForestClassifier\n",
        "from sklearn.metrics import accuracy_score, recall_score, precision_score, f1_score\n",
        "from sklearn.metrics import roc_curve, roc_auc_score\n",
        "from sklearn.model_selection import RandomizedSearchCV\n",
        "from lightgbm import LGBMClassifier\n",
        "\n",
        "import warnings\n",
        "warnings.filterwarnings(\"ignore\")\n"
      ]
    },
    {
      "cell_type": "markdown",
      "source": [
        "데이터 불러오기"
      ],
      "metadata": {
        "id": "LFFY4JTbd6ok"
      }
    },
    {
      "cell_type": "code",
      "source": [
        "#데이터셋 불러오기\n",
        "train = pd.read_csv('https://raw.githubusercontent.com/SYKIM5396/Airline_Satisfaction/main/train_processed.csv')\n",
        "test = pd.read_csv('https://raw.githubusercontent.com/SYKIM5396/Airline_Satisfaction/main/test_processed.csv')"
      ],
      "metadata": {
        "id": "RXtH7QX4c1u0"
      },
      "execution_count": 3,
      "outputs": []
    },
    {
      "cell_type": "markdown",
      "source": [
        "# 3.다양한 모델 설계 및 비교"
      ],
      "metadata": {
        "id": "e--E__x5c18k"
      }
    },
    {
      "cell_type": "markdown",
      "source": [
        "데이터 분리"
      ],
      "metadata": {
        "id": "MHhRKe0tlAfZ"
      }
    },
    {
      "cell_type": "code",
      "source": [
        "target = 'satisfaction'\n",
        "\n",
        "train, val = train_test_split(\n",
        "    train, train_size=0.80, test_size=0.20, stratify=train[target], random_state=53)\n",
        "\n",
        "X_train, y_train = train.drop(columns=target), train[target]\n",
        "X_val, y_val = val.drop(columns=target), val[target]\n",
        "X_test, y_test = test.drop(columns=target), test[target]"
      ],
      "metadata": {
        "id": "WbASb9rrkqvG"
      },
      "execution_count": 4,
      "outputs": []
    },
    {
      "cell_type": "markdown",
      "source": [
        "## 기준모델 선정"
      ],
      "metadata": {
        "id": "Dgluipo_sIB-"
      }
    },
    {
      "cell_type": "markdown",
      "source": [
        "기준모델은 타겟의 최빈 클래스로 설정합니다."
      ],
      "metadata": {
        "id": "wkaJ_g4_sZ-Y"
      }
    },
    {
      "cell_type": "code",
      "source": [
        "def eval_models(y_pred, y_pred_proba, y_real=y_val) :\n",
        "    accuracy = accuracy_score(y_real, y_pred)\n",
        "    precision = precision_score(y_real, y_pred)\n",
        "    recall = recall_score(y_real, y_pred)\n",
        "    f1 = f1_score(y_real, y_pred)\n",
        "    auc = roc_auc_score(y_val, y_pred_proba)\n",
        "\n",
        "    print(f'accuracy : {accuracy.round(2)}')\n",
        "    print(f'precision : {precision.round(2)}')\n",
        "    print(f'recall : {recall.round(2)}')\n",
        "    print(f'f1 : {f1.round(2)}')\n",
        "    print(f\"auc score : {auc.round(3)}\")\n",
        "\n",
        "    return accuracy, precision, recall, f1, auc"
      ],
      "metadata": {
        "id": "zP8M0vX9oXC4"
      },
      "execution_count": 5,
      "outputs": []
    },
    {
      "cell_type": "code",
      "source": [
        "base = y_train.mode()[0]\n",
        "baseline = len(y_val) * [base]\n",
        "\n",
        "eval_models(baseline,baseline);"
      ],
      "metadata": {
        "colab": {
          "base_uri": "https://localhost:8080/"
        },
        "id": "LZSRuAgkmJ9J",
        "outputId": "5dd9aadd-0e3d-45f9-f282-a77b8977e4b4"
      },
      "execution_count": 6,
      "outputs": [
        {
          "output_type": "stream",
          "name": "stdout",
          "text": [
            "accuracy : 0.57\n",
            "precision : 0.0\n",
            "recall : 0.0\n",
            "f1 : 0.0\n",
            "auc score : 0.5\n"
          ]
        }
      ]
    },
    {
      "cell_type": "markdown",
      "source": [
        "## Logistic Regression"
      ],
      "metadata": {
        "id": "7PKiUIYxua6x"
      }
    },
    {
      "cell_type": "code",
      "source": [
        "# 수치형 특성만 스케일링\n",
        "sclaer = StandardScaler()\n",
        "num_cols = ['Age','Flight_Distance','Average_delay','Overall_Rating']\n",
        "\n",
        "X_train_scaled, X_val_scaled, X_test_scaled = X_train.copy(), X_val.copy(), X_test.copy()\n",
        "\n",
        "scaler = StandardScaler()\n",
        "X_train_scaled[num_cols] = scaler.fit_transform(X_train_scaled[num_cols])\n",
        "X_val_scaled[num_cols] = scaler.transform(X_val_scaled[num_cols])\n",
        "X_test_scaled[num_cols] = scaler.transform(X_test_scaled[num_cols])"
      ],
      "metadata": {
        "id": "5AMPm7eWv6yn"
      },
      "execution_count": 7,
      "outputs": []
    },
    {
      "cell_type": "code",
      "source": [
        "nominal_cols = ['Gender', 'Customer_Type', 'Type_of_Travel', 'Class']\n",
        "\n",
        "Cs = np.power(10.0, np.arange(-10, 10))\n",
        "\n",
        "pire_LR_CV = make_pipeline(\n",
        "        OneHotEncoder(use_cat_names=True, cols = nominal_cols),\n",
        "        LogisticRegressionCV(Cs=Cs, cv=5, max_iter=1000,scoring=\"roc_auc\", random_state=53)\n",
        "            )\n",
        "pire_LR_CV.fit(X_train_scaled, y_train)"
      ],
      "metadata": {
        "colab": {
          "base_uri": "https://localhost:8080/"
        },
        "id": "mILBHdrCuxkX",
        "outputId": "42d1b5db-5234-442d-e9b4-bff13420fe46"
      },
      "execution_count": 8,
      "outputs": [
        {
          "output_type": "execute_result",
          "data": {
            "text/plain": [
              "Pipeline(steps=[('onehotencoder',\n",
              "                 OneHotEncoder(cols=['Gender', 'Customer_Type',\n",
              "                                     'Type_of_Travel', 'Class'],\n",
              "                               use_cat_names=True)),\n",
              "                ('logisticregressioncv',\n",
              "                 LogisticRegressionCV(Cs=array([1.e-10, 1.e-09, 1.e-08, 1.e-07, 1.e-06, 1.e-05, 1.e-04, 1.e-03,\n",
              "       1.e-02, 1.e-01, 1.e+00, 1.e+01, 1.e+02, 1.e+03, 1.e+04, 1.e+05,\n",
              "       1.e+06, 1.e+07, 1.e+08, 1.e+09]),\n",
              "                                      cv=5, max_iter=1000, random_state=53,\n",
              "                                      scoring='roc_auc'))])"
            ]
          },
          "metadata": {},
          "execution_count": 8
        }
      ]
    },
    {
      "cell_type": "code",
      "source": [
        "pire_LR_CV.named_steps['logisticregressioncv'].C_"
      ],
      "metadata": {
        "colab": {
          "base_uri": "https://localhost:8080/"
        },
        "id": "tSL1YXzvx9aW",
        "outputId": "0f223ed7-1b64-42c7-9516-b1e678adbaee"
      },
      "execution_count": 9,
      "outputs": [
        {
          "output_type": "execute_result",
          "data": {
            "text/plain": [
              "array([0.1])"
            ]
          },
          "metadata": {},
          "execution_count": 9
        }
      ]
    },
    {
      "cell_type": "code",
      "source": [
        "y_pred_LR = pire_LR_CV.predict(X_val_scaled)\n",
        "y_pred_proba_LR = pire_LR_CV.predict_proba(X_val_scaled)[:,1]\n",
        "\n",
        "print(\"훈련 auc \", pire_LR_CV.score(X_train_scaled, y_train))\n",
        "eval_models(y_pred_LR,y_pred_proba_LR)"
      ],
      "metadata": {
        "colab": {
          "base_uri": "https://localhost:8080/"
        },
        "id": "Ezl-3hMs1Hd9",
        "outputId": "357e3c4f-356f-460a-d2b6-bcbb1fc8986c"
      },
      "execution_count": 10,
      "outputs": [
        {
          "output_type": "stream",
          "name": "stdout",
          "text": [
            "훈련 auc  0.9267063509843627\n",
            "accuracy : 0.87\n",
            "precision : 0.87\n",
            "recall : 0.83\n",
            "f1 : 0.85\n",
            "auc score : 0.926\n"
          ]
        },
        {
          "output_type": "execute_result",
          "data": {
            "text/plain": [
              "(0.8736345700399404,\n",
              " 0.8735214896357887,\n",
              " 0.828317601332593,\n",
              " 0.8503191974464204,\n",
              " 0.9260831467421481)"
            ]
          },
          "metadata": {},
          "execution_count": 10
        }
      ]
    },
    {
      "cell_type": "code",
      "source": [
        "#로지스틱 회귀모델의 회귀계수 확인\n",
        "pd.Series(pire_LR_CV.named_steps['logisticregressioncv'].coef_[0], pire_LR_CV.named_steps['logisticregressioncv'].feature_names_in_).sort_values(ascending=False)"
      ],
      "metadata": {
        "colab": {
          "base_uri": "https://localhost:8080/"
        },
        "id": "tek2RDQw2l-s",
        "outputId": "71f63677-514b-4def-f275-9517e1d7e45d"
      },
      "execution_count": 11,
      "outputs": [
        {
          "output_type": "execute_result",
          "data": {
            "text/plain": [
              "Type_of_Travel_Business travel       1.341160\n",
              "Customer_Type_Loyal Customer         0.989168\n",
              "Online_boarding                      0.586131\n",
              "Class_Business                       0.514839\n",
              "Inflight_wifi_service                0.359705\n",
              "Checkin_service                      0.300352\n",
              "On-board_service                     0.275721\n",
              "Overall_Rating                       0.257205\n",
              "Leg_room_service                     0.227444\n",
              "Cleanliness                          0.186282\n",
              "Baggage_handling                     0.117459\n",
              "Inflight_service                     0.077813\n",
              "Inflight_entertainment               0.045627\n",
              "Seat_comfort                         0.038863\n",
              "Gender_Male                          0.011629\n",
              "Gate_location                        0.011306\n",
              "Flight_Distance                      0.000151\n",
              "Gender_Female                       -0.023500\n",
              "Food_and_drink                      -0.053405\n",
              "Age                                 -0.113575\n",
              "Departure/Arrival_time_convenient   -0.156119\n",
              "Ease_of_Online_booking              -0.172987\n",
              "Average_delay                       -0.183766\n",
              "Class_Eco                           -0.205651\n",
              "Class_Eco Plus                      -0.321059\n",
              "Customer_Type_disloyal Customer     -1.001038\n",
              "Type_of_Travel_Personal Travel      -1.353030\n",
              "dtype: float64"
            ]
          },
          "metadata": {},
          "execution_count": 11
        }
      ]
    },
    {
      "cell_type": "markdown",
      "source": [
        "## RandomForest"
      ],
      "metadata": {
        "id": "D3MGQjB24B5s"
      }
    },
    {
      "cell_type": "code",
      "source": [
        "mapping = [{'col': 'Gender', 'mapping': {'Female' : 1,  'Male' : 2,  None :-2}},\n",
        " {'col': 'Customer_Type', 'mapping': {'disloyal Customer' :1, 'Loyal Customer' : 2,  None :-2}},\n",
        " {'col': 'Type_of_Travel', 'mapping': {'Personal Travel' :   1 ,  'Business travel' :  2, None :-2}},\n",
        " {'col': 'Class', 'mapping': {'Eco':1, 'Eco Plus' : 2 ,'Business':3,  None :-2}}\n",
        "]"
      ],
      "metadata": {
        "id": "DSmpz3FLGT8m"
      },
      "execution_count": 12,
      "outputs": []
    },
    {
      "cell_type": "code",
      "source": [
        "params = {'randomforestclassifier__max_depth': np.arange(3, 15, 2),\n",
        "               'randomforestclassifier__min_samples_split': [2, 4, 8, 16],\n",
        "               'randomforestclassifier__min_samples_leaf': [1, 2, 4]\n",
        "               }"
      ],
      "metadata": {
        "id": "TBJ98pDN43Bq"
      },
      "execution_count": 41,
      "outputs": []
    },
    {
      "cell_type": "code",
      "source": [
        "pipe_rf = make_pipeline(\n",
        "        OrdinalEncoder(mapping=mapping),\n",
        "        RandomForestClassifier(random_state=53,\n",
        "                               oob_score=False, \n",
        "                               n_estimators=100,\n",
        "                               n_jobs=-1)\n",
        "        )\n",
        "\n",
        "rf_random = RandomizedSearchCV(pipe_rf, param_distributions = params, scoring=\"roc_auc\", n_iter = 10, cv = 5, verbose=3, random_state=53)\n",
        "rf_random.fit(X_train, y_train)"
      ],
      "metadata": {
        "colab": {
          "base_uri": "https://localhost:8080/"
        },
        "id": "y8NPqLv24YLs",
        "outputId": "4cdb091c-7643-4598-ff1f-8c4742b173d7"
      },
      "execution_count": 42,
      "outputs": [
        {
          "output_type": "stream",
          "name": "stdout",
          "text": [
            "Fitting 5 folds for each of 10 candidates, totalling 50 fits\n",
            "[CV 1/5] END randomforestclassifier__max_depth=9, randomforestclassifier__min_samples_leaf=4, randomforestclassifier__min_samples_split=16;, score=0.988 total time=   6.3s\n",
            "[CV 2/5] END randomforestclassifier__max_depth=9, randomforestclassifier__min_samples_leaf=4, randomforestclassifier__min_samples_split=16;, score=0.988 total time=   4.9s\n",
            "[CV 3/5] END randomforestclassifier__max_depth=9, randomforestclassifier__min_samples_leaf=4, randomforestclassifier__min_samples_split=16;, score=0.987 total time=   5.0s\n",
            "[CV 4/5] END randomforestclassifier__max_depth=9, randomforestclassifier__min_samples_leaf=4, randomforestclassifier__min_samples_split=16;, score=0.987 total time=   4.9s\n",
            "[CV 5/5] END randomforestclassifier__max_depth=9, randomforestclassifier__min_samples_leaf=4, randomforestclassifier__min_samples_split=16;, score=0.987 total time=   5.0s\n",
            "[CV 1/5] END randomforestclassifier__max_depth=3, randomforestclassifier__min_samples_leaf=4, randomforestclassifier__min_samples_split=8;, score=0.957 total time=   2.6s\n",
            "[CV 2/5] END randomforestclassifier__max_depth=3, randomforestclassifier__min_samples_leaf=4, randomforestclassifier__min_samples_split=8;, score=0.957 total time=   2.6s\n",
            "[CV 3/5] END randomforestclassifier__max_depth=3, randomforestclassifier__min_samples_leaf=4, randomforestclassifier__min_samples_split=8;, score=0.956 total time=   2.6s\n",
            "[CV 4/5] END randomforestclassifier__max_depth=3, randomforestclassifier__min_samples_leaf=4, randomforestclassifier__min_samples_split=8;, score=0.955 total time=   3.6s\n",
            "[CV 5/5] END randomforestclassifier__max_depth=3, randomforestclassifier__min_samples_leaf=4, randomforestclassifier__min_samples_split=8;, score=0.957 total time=   3.1s\n",
            "[CV 1/5] END randomforestclassifier__max_depth=7, randomforestclassifier__min_samples_leaf=2, randomforestclassifier__min_samples_split=16;, score=0.982 total time=   4.3s\n",
            "[CV 2/5] END randomforestclassifier__max_depth=7, randomforestclassifier__min_samples_leaf=2, randomforestclassifier__min_samples_split=16;, score=0.982 total time=   4.3s\n",
            "[CV 3/5] END randomforestclassifier__max_depth=7, randomforestclassifier__min_samples_leaf=2, randomforestclassifier__min_samples_split=16;, score=0.981 total time=   4.3s\n",
            "[CV 4/5] END randomforestclassifier__max_depth=7, randomforestclassifier__min_samples_leaf=2, randomforestclassifier__min_samples_split=16;, score=0.981 total time=   4.3s\n",
            "[CV 5/5] END randomforestclassifier__max_depth=7, randomforestclassifier__min_samples_leaf=2, randomforestclassifier__min_samples_split=16;, score=0.982 total time=   4.4s\n",
            "[CV 1/5] END randomforestclassifier__max_depth=3, randomforestclassifier__min_samples_leaf=2, randomforestclassifier__min_samples_split=2;, score=0.957 total time=   2.6s\n",
            "[CV 2/5] END randomforestclassifier__max_depth=3, randomforestclassifier__min_samples_leaf=2, randomforestclassifier__min_samples_split=2;, score=0.957 total time=   2.6s\n",
            "[CV 3/5] END randomforestclassifier__max_depth=3, randomforestclassifier__min_samples_leaf=2, randomforestclassifier__min_samples_split=2;, score=0.956 total time=   2.6s\n",
            "[CV 4/5] END randomforestclassifier__max_depth=3, randomforestclassifier__min_samples_leaf=2, randomforestclassifier__min_samples_split=2;, score=0.955 total time=   2.6s\n",
            "[CV 5/5] END randomforestclassifier__max_depth=3, randomforestclassifier__min_samples_leaf=2, randomforestclassifier__min_samples_split=2;, score=0.957 total time=   2.6s\n",
            "[CV 1/5] END randomforestclassifier__max_depth=3, randomforestclassifier__min_samples_leaf=1, randomforestclassifier__min_samples_split=16;, score=0.957 total time=   2.6s\n",
            "[CV 2/5] END randomforestclassifier__max_depth=3, randomforestclassifier__min_samples_leaf=1, randomforestclassifier__min_samples_split=16;, score=0.957 total time=   3.5s\n",
            "[CV 3/5] END randomforestclassifier__max_depth=3, randomforestclassifier__min_samples_leaf=1, randomforestclassifier__min_samples_split=16;, score=0.956 total time=   4.1s\n",
            "[CV 4/5] END randomforestclassifier__max_depth=3, randomforestclassifier__min_samples_leaf=1, randomforestclassifier__min_samples_split=16;, score=0.955 total time=   2.6s\n",
            "[CV 5/5] END randomforestclassifier__max_depth=3, randomforestclassifier__min_samples_leaf=1, randomforestclassifier__min_samples_split=16;, score=0.957 total time=   2.6s\n",
            "[CV 1/5] END randomforestclassifier__max_depth=5, randomforestclassifier__min_samples_leaf=2, randomforestclassifier__min_samples_split=4;, score=0.973 total time=   3.4s\n",
            "[CV 2/5] END randomforestclassifier__max_depth=5, randomforestclassifier__min_samples_leaf=2, randomforestclassifier__min_samples_split=4;, score=0.973 total time=   3.4s\n",
            "[CV 3/5] END randomforestclassifier__max_depth=5, randomforestclassifier__min_samples_leaf=2, randomforestclassifier__min_samples_split=4;, score=0.972 total time=   3.4s\n",
            "[CV 4/5] END randomforestclassifier__max_depth=5, randomforestclassifier__min_samples_leaf=2, randomforestclassifier__min_samples_split=4;, score=0.972 total time=   3.5s\n",
            "[CV 5/5] END randomforestclassifier__max_depth=5, randomforestclassifier__min_samples_leaf=2, randomforestclassifier__min_samples_split=4;, score=0.973 total time=   3.4s\n",
            "[CV 1/5] END randomforestclassifier__max_depth=11, randomforestclassifier__min_samples_leaf=2, randomforestclassifier__min_samples_split=4;, score=0.990 total time=   5.5s\n",
            "[CV 2/5] END randomforestclassifier__max_depth=11, randomforestclassifier__min_samples_leaf=2, randomforestclassifier__min_samples_split=4;, score=0.990 total time=   5.4s\n",
            "[CV 3/5] END randomforestclassifier__max_depth=11, randomforestclassifier__min_samples_leaf=2, randomforestclassifier__min_samples_split=4;, score=0.990 total time=   5.5s\n",
            "[CV 4/5] END randomforestclassifier__max_depth=11, randomforestclassifier__min_samples_leaf=2, randomforestclassifier__min_samples_split=4;, score=0.990 total time=   5.4s\n",
            "[CV 5/5] END randomforestclassifier__max_depth=11, randomforestclassifier__min_samples_leaf=2, randomforestclassifier__min_samples_split=4;, score=0.990 total time=   5.5s\n",
            "[CV 1/5] END randomforestclassifier__max_depth=13, randomforestclassifier__min_samples_leaf=4, randomforestclassifier__min_samples_split=8;, score=0.992 total time=   6.0s\n",
            "[CV 2/5] END randomforestclassifier__max_depth=13, randomforestclassifier__min_samples_leaf=4, randomforestclassifier__min_samples_split=8;, score=0.992 total time=   6.0s\n",
            "[CV 3/5] END randomforestclassifier__max_depth=13, randomforestclassifier__min_samples_leaf=4, randomforestclassifier__min_samples_split=8;, score=0.991 total time=   6.0s\n",
            "[CV 4/5] END randomforestclassifier__max_depth=13, randomforestclassifier__min_samples_leaf=4, randomforestclassifier__min_samples_split=8;, score=0.991 total time=   7.3s\n",
            "[CV 5/5] END randomforestclassifier__max_depth=13, randomforestclassifier__min_samples_leaf=4, randomforestclassifier__min_samples_split=8;, score=0.992 total time=   6.9s\n",
            "[CV 1/5] END randomforestclassifier__max_depth=13, randomforestclassifier__min_samples_leaf=4, randomforestclassifier__min_samples_split=4;, score=0.992 total time=   5.8s\n",
            "[CV 2/5] END randomforestclassifier__max_depth=13, randomforestclassifier__min_samples_leaf=4, randomforestclassifier__min_samples_split=4;, score=0.992 total time=   6.8s\n",
            "[CV 3/5] END randomforestclassifier__max_depth=13, randomforestclassifier__min_samples_leaf=4, randomforestclassifier__min_samples_split=4;, score=0.991 total time=   6.0s\n",
            "[CV 4/5] END randomforestclassifier__max_depth=13, randomforestclassifier__min_samples_leaf=4, randomforestclassifier__min_samples_split=4;, score=0.991 total time=   6.5s\n",
            "[CV 5/5] END randomforestclassifier__max_depth=13, randomforestclassifier__min_samples_leaf=4, randomforestclassifier__min_samples_split=4;, score=0.992 total time=   6.0s\n",
            "[CV 1/5] END randomforestclassifier__max_depth=5, randomforestclassifier__min_samples_leaf=2, randomforestclassifier__min_samples_split=16;, score=0.973 total time=   3.4s\n",
            "[CV 2/5] END randomforestclassifier__max_depth=5, randomforestclassifier__min_samples_leaf=2, randomforestclassifier__min_samples_split=16;, score=0.974 total time=   3.5s\n",
            "[CV 3/5] END randomforestclassifier__max_depth=5, randomforestclassifier__min_samples_leaf=2, randomforestclassifier__min_samples_split=16;, score=0.972 total time=   3.5s\n",
            "[CV 4/5] END randomforestclassifier__max_depth=5, randomforestclassifier__min_samples_leaf=2, randomforestclassifier__min_samples_split=16;, score=0.972 total time=   3.4s\n",
            "[CV 5/5] END randomforestclassifier__max_depth=5, randomforestclassifier__min_samples_leaf=2, randomforestclassifier__min_samples_split=16;, score=0.973 total time=   3.4s\n"
          ]
        },
        {
          "output_type": "execute_result",
          "data": {
            "text/plain": [
              "RandomizedSearchCV(cv=5,\n",
              "                   estimator=Pipeline(steps=[('ordinalencoder',\n",
              "                                              OrdinalEncoder(mapping=[{'col': 'Gender',\n",
              "                                                                       'mapping': {None: -2,\n",
              "                                                                                   'Female': 1,\n",
              "                                                                                   'Male': 2}},\n",
              "                                                                      {'col': 'Customer_Type',\n",
              "                                                                       'mapping': {None: -2,\n",
              "                                                                                   'Loyal Customer': 2,\n",
              "                                                                                   'disloyal Customer': 1}},\n",
              "                                                                      {'col': 'Type_of_Travel',\n",
              "                                                                       'mapping': {None: -2,\n",
              "                                                                                   'Business travel': 2,\n",
              "                                                                                   'Personal Travel': 1}},\n",
              "                                                                      {'col': 'Class',\n",
              "                                                                       'mapping': {None: -2,\n",
              "                                                                                   'Business': 3,\n",
              "                                                                                   'Eco': 1,\n",
              "                                                                                   'Eco Plus': 2}}])),\n",
              "                                             ('randomforestclassifier',\n",
              "                                              RandomForestClassifier(n_jobs=-1,\n",
              "                                                                     random_state=53))]),\n",
              "                   param_distributions={'randomforestclassifier__max_depth': array([ 3,  5,  7,  9, 11, 13]),\n",
              "                                        'randomforestclassifier__min_samples_leaf': [1,\n",
              "                                                                                     2,\n",
              "                                                                                     4],\n",
              "                                        'randomforestclassifier__min_samples_split': [2,\n",
              "                                                                                      4,\n",
              "                                                                                      8,\n",
              "                                                                                      16]},\n",
              "                   random_state=53, scoring='roc_auc', verbose=3)"
            ]
          },
          "metadata": {},
          "execution_count": 42
        }
      ]
    },
    {
      "cell_type": "code",
      "source": [
        "rf_random.best_params_"
      ],
      "metadata": {
        "colab": {
          "base_uri": "https://localhost:8080/"
        },
        "id": "CvG79NQ5EZYB",
        "outputId": "b6ff1aa5-2596-4c0c-e86a-effed8400fa3"
      },
      "execution_count": 43,
      "outputs": [
        {
          "output_type": "execute_result",
          "data": {
            "text/plain": [
              "{'randomforestclassifier__min_samples_split': 8,\n",
              " 'randomforestclassifier__min_samples_leaf': 4,\n",
              " 'randomforestclassifier__max_depth': 13}"
            ]
          },
          "metadata": {},
          "execution_count": 43
        }
      ]
    },
    {
      "cell_type": "code",
      "source": [
        "y_pred_rf = rf_random.best_estimator_.predict(X_val)\n",
        "y_pred_proba_rf = rf_random.best_estimator_.predict_proba(X_val)[:,1]\n",
        "\n",
        "print(\"훈련 auc \", rf_random.best_estimator_.score(X_train, y_train))\n",
        "eval_models(y_pred_rf,y_pred_proba_rf)"
      ],
      "metadata": {
        "colab": {
          "base_uri": "https://localhost:8080/"
        },
        "id": "jvHggPjHFLRP",
        "outputId": "a03d3b7b-995f-46ab-876a-8cc90dfdf5c9"
      },
      "execution_count": 44,
      "outputs": [
        {
          "output_type": "stream",
          "name": "stdout",
          "text": [
            "훈련 auc  0.9620321691950483\n",
            "accuracy : 0.95\n",
            "precision : 0.96\n",
            "recall : 0.93\n",
            "f1 : 0.95\n",
            "auc score : 0.992\n"
          ]
        },
        {
          "output_type": "execute_result",
          "data": {
            "text/plain": [
              "(0.9539964390549059,\n",
              " 0.9603111060276793,\n",
              " 0.9323709050527484,\n",
              " 0.9461347757493801,\n",
              " 0.9919328105762499)"
            ]
          },
          "metadata": {},
          "execution_count": 44
        }
      ]
    },
    {
      "cell_type": "markdown",
      "source": [
        "## LGBMClassifier"
      ],
      "metadata": {
        "id": "Yk0JC2z4JmGc"
      }
    },
    {
      "cell_type": "code",
      "source": [
        "params = {'lgbmclassifier__max_depth': np.arange(-1, 15, 4),\n",
        "            'lgbmclassifier__min_child_weight': [2, 4, 8, 16],\n",
        "            'lgbmclassifier__n_estimators' : np.arange(100, 1000, 100)\n",
        "               }"
      ],
      "metadata": {
        "id": "tAZYUhFiJ-Nb"
      },
      "execution_count": 28,
      "outputs": []
    },
    {
      "cell_type": "code",
      "source": [
        "pipe_lgbm = make_pipeline(\n",
        "        OrdinalEncoder(mapping=mapping),\n",
        "        LGBMClassifier(random_state=53,\n",
        "                       learning_rate=0.1,                              \n",
        "                               n_jobs=-1)\n",
        "        )\n",
        "\n",
        "lgbm_random = RandomizedSearchCV(pipe_lgbm, param_distributions = params, scoring=\"roc_auc\", n_iter = 10, cv = 5, verbose=3, random_state=53)\n",
        "lgbm_random.fit(X_train, y_train)"
      ],
      "metadata": {
        "colab": {
          "base_uri": "https://localhost:8080/"
        },
        "outputId": "21335adf-7998-4439-e8b9-512494a68323",
        "id": "eRgIStvzJ-Nc"
      },
      "execution_count": 29,
      "outputs": [
        {
          "output_type": "stream",
          "name": "stdout",
          "text": [
            "Fitting 5 folds for each of 10 candidates, totalling 50 fits\n",
            "[CV 1/5] END lgbmclassifier__max_depth=-1, lgbmclassifier__min_child_weight=2, lgbmclassifier__n_estimators=900;, score=0.995 total time=   9.0s\n",
            "[CV 2/5] END lgbmclassifier__max_depth=-1, lgbmclassifier__min_child_weight=2, lgbmclassifier__n_estimators=900;, score=0.995 total time=   7.5s\n",
            "[CV 3/5] END lgbmclassifier__max_depth=-1, lgbmclassifier__min_child_weight=2, lgbmclassifier__n_estimators=900;, score=0.995 total time=   7.6s\n",
            "[CV 4/5] END lgbmclassifier__max_depth=-1, lgbmclassifier__min_child_weight=2, lgbmclassifier__n_estimators=900;, score=0.995 total time=   7.6s\n",
            "[CV 5/5] END lgbmclassifier__max_depth=-1, lgbmclassifier__min_child_weight=2, lgbmclassifier__n_estimators=900;, score=0.995 total time=   7.7s\n",
            "[CV 1/5] END lgbmclassifier__max_depth=11, lgbmclassifier__min_child_weight=8, lgbmclassifier__n_estimators=600;, score=0.995 total time=   5.7s\n",
            "[CV 2/5] END lgbmclassifier__max_depth=11, lgbmclassifier__min_child_weight=8, lgbmclassifier__n_estimators=600;, score=0.995 total time=   5.7s\n",
            "[CV 3/5] END lgbmclassifier__max_depth=11, lgbmclassifier__min_child_weight=8, lgbmclassifier__n_estimators=600;, score=0.995 total time=   5.8s\n",
            "[CV 4/5] END lgbmclassifier__max_depth=11, lgbmclassifier__min_child_weight=8, lgbmclassifier__n_estimators=600;, score=0.995 total time=   5.7s\n",
            "[CV 5/5] END lgbmclassifier__max_depth=11, lgbmclassifier__min_child_weight=8, lgbmclassifier__n_estimators=600;, score=0.995 total time=   5.7s\n",
            "[CV 1/5] END lgbmclassifier__max_depth=11, lgbmclassifier__min_child_weight=8, lgbmclassifier__n_estimators=500;, score=0.995 total time=   4.8s\n",
            "[CV 2/5] END lgbmclassifier__max_depth=11, lgbmclassifier__min_child_weight=8, lgbmclassifier__n_estimators=500;, score=0.995 total time=   4.9s\n",
            "[CV 3/5] END lgbmclassifier__max_depth=11, lgbmclassifier__min_child_weight=8, lgbmclassifier__n_estimators=500;, score=0.995 total time=   4.9s\n",
            "[CV 4/5] END lgbmclassifier__max_depth=11, lgbmclassifier__min_child_weight=8, lgbmclassifier__n_estimators=500;, score=0.995 total time=   4.7s\n",
            "[CV 5/5] END lgbmclassifier__max_depth=11, lgbmclassifier__min_child_weight=8, lgbmclassifier__n_estimators=500;, score=0.995 total time=   4.7s\n",
            "[CV 1/5] END lgbmclassifier__max_depth=7, lgbmclassifier__min_child_weight=8, lgbmclassifier__n_estimators=200;, score=0.995 total time=   2.3s\n",
            "[CV 2/5] END lgbmclassifier__max_depth=7, lgbmclassifier__min_child_weight=8, lgbmclassifier__n_estimators=200;, score=0.995 total time=   2.3s\n",
            "[CV 3/5] END lgbmclassifier__max_depth=7, lgbmclassifier__min_child_weight=8, lgbmclassifier__n_estimators=200;, score=0.995 total time=   2.3s\n",
            "[CV 4/5] END lgbmclassifier__max_depth=7, lgbmclassifier__min_child_weight=8, lgbmclassifier__n_estimators=200;, score=0.995 total time=   2.2s\n",
            "[CV 5/5] END lgbmclassifier__max_depth=7, lgbmclassifier__min_child_weight=8, lgbmclassifier__n_estimators=200;, score=0.995 total time=   2.2s\n",
            "[CV 1/5] END lgbmclassifier__max_depth=3, lgbmclassifier__min_child_weight=16, lgbmclassifier__n_estimators=900;, score=0.994 total time=   5.8s\n",
            "[CV 2/5] END lgbmclassifier__max_depth=3, lgbmclassifier__min_child_weight=16, lgbmclassifier__n_estimators=900;, score=0.994 total time=   5.8s\n",
            "[CV 3/5] END lgbmclassifier__max_depth=3, lgbmclassifier__min_child_weight=16, lgbmclassifier__n_estimators=900;, score=0.993 total time=   5.9s\n",
            "[CV 4/5] END lgbmclassifier__max_depth=3, lgbmclassifier__min_child_weight=16, lgbmclassifier__n_estimators=900;, score=0.994 total time=   5.8s\n",
            "[CV 5/5] END lgbmclassifier__max_depth=3, lgbmclassifier__min_child_weight=16, lgbmclassifier__n_estimators=900;, score=0.993 total time=   5.9s\n",
            "[CV 1/5] END lgbmclassifier__max_depth=11, lgbmclassifier__min_child_weight=2, lgbmclassifier__n_estimators=600;, score=0.995 total time=   5.1s\n",
            "[CV 2/5] END lgbmclassifier__max_depth=11, lgbmclassifier__min_child_weight=2, lgbmclassifier__n_estimators=600;, score=0.995 total time=   5.1s\n",
            "[CV 3/5] END lgbmclassifier__max_depth=11, lgbmclassifier__min_child_weight=2, lgbmclassifier__n_estimators=600;, score=0.995 total time=   6.9s\n",
            "[CV 4/5] END lgbmclassifier__max_depth=11, lgbmclassifier__min_child_weight=2, lgbmclassifier__n_estimators=600;, score=0.995 total time=   5.2s\n",
            "[CV 5/5] END lgbmclassifier__max_depth=11, lgbmclassifier__min_child_weight=2, lgbmclassifier__n_estimators=600;, score=0.995 total time=   5.2s\n",
            "[CV 1/5] END lgbmclassifier__max_depth=-1, lgbmclassifier__min_child_weight=8, lgbmclassifier__n_estimators=700;, score=0.995 total time=   6.5s\n",
            "[CV 2/5] END lgbmclassifier__max_depth=-1, lgbmclassifier__min_child_weight=8, lgbmclassifier__n_estimators=700;, score=0.995 total time=   6.6s\n",
            "[CV 3/5] END lgbmclassifier__max_depth=-1, lgbmclassifier__min_child_weight=8, lgbmclassifier__n_estimators=700;, score=0.995 total time=   6.7s\n",
            "[CV 4/5] END lgbmclassifier__max_depth=-1, lgbmclassifier__min_child_weight=8, lgbmclassifier__n_estimators=700;, score=0.995 total time=   6.6s\n",
            "[CV 5/5] END lgbmclassifier__max_depth=-1, lgbmclassifier__min_child_weight=8, lgbmclassifier__n_estimators=700;, score=0.995 total time=   6.7s\n",
            "[CV 1/5] END lgbmclassifier__max_depth=11, lgbmclassifier__min_child_weight=4, lgbmclassifier__n_estimators=200;, score=0.995 total time=   2.2s\n",
            "[CV 2/5] END lgbmclassifier__max_depth=11, lgbmclassifier__min_child_weight=4, lgbmclassifier__n_estimators=200;, score=0.995 total time=   2.2s\n",
            "[CV 3/5] END lgbmclassifier__max_depth=11, lgbmclassifier__min_child_weight=4, lgbmclassifier__n_estimators=200;, score=0.995 total time=   2.2s\n",
            "[CV 4/5] END lgbmclassifier__max_depth=11, lgbmclassifier__min_child_weight=4, lgbmclassifier__n_estimators=200;, score=0.995 total time=   2.1s\n",
            "[CV 5/5] END lgbmclassifier__max_depth=11, lgbmclassifier__min_child_weight=4, lgbmclassifier__n_estimators=200;, score=0.995 total time=   2.1s\n",
            "[CV 1/5] END lgbmclassifier__max_depth=3, lgbmclassifier__min_child_weight=8, lgbmclassifier__n_estimators=700;, score=0.994 total time=   4.7s\n",
            "[CV 2/5] END lgbmclassifier__max_depth=3, lgbmclassifier__min_child_weight=8, lgbmclassifier__n_estimators=700;, score=0.994 total time=   4.7s\n",
            "[CV 3/5] END lgbmclassifier__max_depth=3, lgbmclassifier__min_child_weight=8, lgbmclassifier__n_estimators=700;, score=0.993 total time=   4.7s\n",
            "[CV 4/5] END lgbmclassifier__max_depth=3, lgbmclassifier__min_child_weight=8, lgbmclassifier__n_estimators=700;, score=0.993 total time=   4.7s\n",
            "[CV 5/5] END lgbmclassifier__max_depth=3, lgbmclassifier__min_child_weight=8, lgbmclassifier__n_estimators=700;, score=0.993 total time=   4.7s\n",
            "[CV 1/5] END lgbmclassifier__max_depth=3, lgbmclassifier__min_child_weight=16, lgbmclassifier__n_estimators=400;, score=0.993 total time=   2.9s\n",
            "[CV 2/5] END lgbmclassifier__max_depth=3, lgbmclassifier__min_child_weight=16, lgbmclassifier__n_estimators=400;, score=0.993 total time=   2.9s\n",
            "[CV 3/5] END lgbmclassifier__max_depth=3, lgbmclassifier__min_child_weight=16, lgbmclassifier__n_estimators=400;, score=0.993 total time=   2.9s\n",
            "[CV 4/5] END lgbmclassifier__max_depth=3, lgbmclassifier__min_child_weight=16, lgbmclassifier__n_estimators=400;, score=0.993 total time=   2.9s\n",
            "[CV 5/5] END lgbmclassifier__max_depth=3, lgbmclassifier__min_child_weight=16, lgbmclassifier__n_estimators=400;, score=0.992 total time=   2.9s\n"
          ]
        },
        {
          "output_type": "execute_result",
          "data": {
            "text/plain": [
              "RandomizedSearchCV(cv=5,\n",
              "                   estimator=Pipeline(steps=[('ordinalencoder',\n",
              "                                              OrdinalEncoder(mapping=[{'col': 'Gender',\n",
              "                                                                       'mapping': {None: -2,\n",
              "                                                                                   'Female': 1,\n",
              "                                                                                   'Male': 2}},\n",
              "                                                                      {'col': 'Customer_Type',\n",
              "                                                                       'mapping': {None: -2,\n",
              "                                                                                   'Loyal Customer': 2,\n",
              "                                                                                   'disloyal Customer': 1}},\n",
              "                                                                      {'col': 'Type_of_Travel',\n",
              "                                                                       'mapping': {None: -2,\n",
              "                                                                                   'Business travel': 2,\n",
              "                                                                                   'Personal Travel': 1}},\n",
              "                                                                      {'col': 'Class',\n",
              "                                                                       'mapping': {None: -2,\n",
              "                                                                                   'Business': 3,\n",
              "                                                                                   'Eco': 1,\n",
              "                                                                                   'Eco Plus': 2}}])),\n",
              "                                             ('lgbmclassifier',\n",
              "                                              LGBMClassifier(random_state=53))]),\n",
              "                   param_distributions={'lgbmclassifier__max_depth': array([-1,  3,  7, 11]),\n",
              "                                        'lgbmclassifier__min_child_weight': [2,\n",
              "                                                                             4,\n",
              "                                                                             8,\n",
              "                                                                             16],\n",
              "                                        'lgbmclassifier__n_estimators': array([100, 200, 300, 400, 500, 600, 700, 800, 900])},\n",
              "                   random_state=53, scoring='roc_auc', verbose=3)"
            ]
          },
          "metadata": {},
          "execution_count": 29
        }
      ]
    },
    {
      "cell_type": "code",
      "source": [
        "lgbm_random.best_params_"
      ],
      "metadata": {
        "colab": {
          "base_uri": "https://localhost:8080/"
        },
        "id": "JUbNJMYuOvOt",
        "outputId": "4e2c3e9c-e1f6-4ca7-9b96-1aec0d167ca8"
      },
      "execution_count": 30,
      "outputs": [
        {
          "output_type": "execute_result",
          "data": {
            "text/plain": [
              "{'lgbmclassifier__n_estimators': 200,\n",
              " 'lgbmclassifier__min_child_weight': 4,\n",
              " 'lgbmclassifier__max_depth': 11}"
            ]
          },
          "metadata": {},
          "execution_count": 30
        }
      ]
    },
    {
      "cell_type": "code",
      "source": [
        "y_pred_lgbm = lgbm_random.best_estimator_.predict(X_val)\n",
        "y_pred_proba_lgbm = lgbm_random.best_estimator_.predict_proba(X_val)[:,1]\n",
        "\n",
        "print(\"훈련 auc \", lgbm_random.best_estimator_.score(X_train, y_train))\n",
        "eval_models(y_pred_lgbm,y_pred_proba_lgbm)"
      ],
      "metadata": {
        "colab": {
          "base_uri": "https://localhost:8080/"
        },
        "id": "NptzxVknO6YE",
        "outputId": "d87f7d22-1f42-4548-9cce-8f47d0094bcd"
      },
      "execution_count": 31,
      "outputs": [
        {
          "output_type": "stream",
          "name": "stdout",
          "text": [
            "훈련 auc  0.9715000661670056\n",
            "accuracy : 0.96\n",
            "precision : 0.98\n",
            "recall : 0.94\n",
            "f1 : 0.96\n",
            "auc score : 0.996\n"
          ]
        },
        {
          "output_type": "execute_result",
          "data": {
            "text/plain": [
              "(0.9645349116981858,\n",
              " 0.9762672811059908,\n",
              " 0.9410327595780122,\n",
              " 0.9583262651964942,\n",
              " 0.9955792128618159)"
            ]
          },
          "metadata": {},
          "execution_count": 31
        }
      ]
    },
    {
      "cell_type": "markdown",
      "source": [
        "## XGBClassifier"
      ],
      "metadata": {
        "id": "ja_N8nz5Pb-z"
      }
    },
    {
      "cell_type": "code",
      "source": [
        "params={'xgbclassifier__max_depth': np.arange(3, 15, 2),\n",
        "        \"xgbclassifier__min_child_weight\" : [4,8,16],\n",
        "        \"xgbclassifier__n_estimators\" : np.arange(100, 1000, 100)\n",
        "    }"
      ],
      "metadata": {
        "id": "_uoI_MzAPn2s"
      },
      "execution_count": 33,
      "outputs": []
    },
    {
      "cell_type": "code",
      "source": [
        "pipe_xgb = make_pipeline(\n",
        "        OrdinalEncoder(mapping=mapping),\n",
        "        XGBClassifier(\n",
        "            objective=\"binary:logistic\",\n",
        "            eval_metric=\"error\",\n",
        "            random_state=53,\n",
        "            learning_rate=0.1,\n",
        "            n_jobs=-1,\n",
        "            ))\n",
        "        \n",
        "xgb_random = RandomizedSearchCV(pipe_xgb, param_distributions = params, scoring=\"roc_auc\", n_iter = 10, cv = 5, verbose=3, random_state=53)\n",
        "xgb_random.fit(X_train, y_train)"
      ],
      "metadata": {
        "colab": {
          "base_uri": "https://localhost:8080/"
        },
        "id": "Bsx0OxGKPlT-",
        "outputId": "a9eb2b2d-f93c-44b9-d151-b94506dca4a8"
      },
      "execution_count": 37,
      "outputs": [
        {
          "output_type": "stream",
          "name": "stdout",
          "text": [
            "Fitting 5 folds for each of 10 candidates, totalling 50 fits\n",
            "[CV 1/5] END xgbclassifier__max_depth=9, xgbclassifier__min_child_weight=16, xgbclassifier__n_estimators=400;, score=0.995 total time=  45.8s\n",
            "[CV 2/5] END xgbclassifier__max_depth=9, xgbclassifier__min_child_weight=16, xgbclassifier__n_estimators=400;, score=0.995 total time=  47.6s\n",
            "[CV 3/5] END xgbclassifier__max_depth=9, xgbclassifier__min_child_weight=16, xgbclassifier__n_estimators=400;, score=0.995 total time=  45.0s\n",
            "[CV 4/5] END xgbclassifier__max_depth=9, xgbclassifier__min_child_weight=16, xgbclassifier__n_estimators=400;, score=0.995 total time=  45.1s\n",
            "[CV 5/5] END xgbclassifier__max_depth=9, xgbclassifier__min_child_weight=16, xgbclassifier__n_estimators=400;, score=0.994 total time=  45.2s\n",
            "[CV 1/5] END xgbclassifier__max_depth=13, xgbclassifier__min_child_weight=16, xgbclassifier__n_estimators=200;, score=0.995 total time=  32.9s\n",
            "[CV 2/5] END xgbclassifier__max_depth=13, xgbclassifier__min_child_weight=16, xgbclassifier__n_estimators=200;, score=0.995 total time=  33.0s\n",
            "[CV 3/5] END xgbclassifier__max_depth=13, xgbclassifier__min_child_weight=16, xgbclassifier__n_estimators=200;, score=0.995 total time=  32.8s\n",
            "[CV 4/5] END xgbclassifier__max_depth=13, xgbclassifier__min_child_weight=16, xgbclassifier__n_estimators=200;, score=0.995 total time=  33.1s\n",
            "[CV 5/5] END xgbclassifier__max_depth=13, xgbclassifier__min_child_weight=16, xgbclassifier__n_estimators=200;, score=0.994 total time=  32.8s\n",
            "[CV 1/5] END xgbclassifier__max_depth=13, xgbclassifier__min_child_weight=8, xgbclassifier__n_estimators=200;, score=0.995 total time=  34.3s\n",
            "[CV 2/5] END xgbclassifier__max_depth=13, xgbclassifier__min_child_weight=8, xgbclassifier__n_estimators=200;, score=0.995 total time=  35.0s\n",
            "[CV 3/5] END xgbclassifier__max_depth=13, xgbclassifier__min_child_weight=8, xgbclassifier__n_estimators=200;, score=0.995 total time=  34.8s\n",
            "[CV 4/5] END xgbclassifier__max_depth=13, xgbclassifier__min_child_weight=8, xgbclassifier__n_estimators=200;, score=0.995 total time=  35.0s\n",
            "[CV 5/5] END xgbclassifier__max_depth=13, xgbclassifier__min_child_weight=8, xgbclassifier__n_estimators=200;, score=0.995 total time=  34.8s\n",
            "[CV 1/5] END xgbclassifier__max_depth=5, xgbclassifier__min_child_weight=4, xgbclassifier__n_estimators=800;, score=0.995 total time=  48.9s\n",
            "[CV 2/5] END xgbclassifier__max_depth=5, xgbclassifier__min_child_weight=4, xgbclassifier__n_estimators=800;, score=0.995 total time=  49.1s\n",
            "[CV 3/5] END xgbclassifier__max_depth=5, xgbclassifier__min_child_weight=4, xgbclassifier__n_estimators=800;, score=0.994 total time=  51.8s\n",
            "[CV 4/5] END xgbclassifier__max_depth=5, xgbclassifier__min_child_weight=4, xgbclassifier__n_estimators=800;, score=0.995 total time=  49.5s\n",
            "[CV 5/5] END xgbclassifier__max_depth=5, xgbclassifier__min_child_weight=4, xgbclassifier__n_estimators=800;, score=0.995 total time=  49.2s\n",
            "[CV 1/5] END xgbclassifier__max_depth=5, xgbclassifier__min_child_weight=16, xgbclassifier__n_estimators=900;, score=0.995 total time=  54.0s\n",
            "[CV 2/5] END xgbclassifier__max_depth=5, xgbclassifier__min_child_weight=16, xgbclassifier__n_estimators=900;, score=0.995 total time=  53.7s\n",
            "[CV 3/5] END xgbclassifier__max_depth=5, xgbclassifier__min_child_weight=16, xgbclassifier__n_estimators=900;, score=0.994 total time=  53.9s\n",
            "[CV 4/5] END xgbclassifier__max_depth=5, xgbclassifier__min_child_weight=16, xgbclassifier__n_estimators=900;, score=0.994 total time=  54.2s\n",
            "[CV 5/5] END xgbclassifier__max_depth=5, xgbclassifier__min_child_weight=16, xgbclassifier__n_estimators=900;, score=0.994 total time=  53.7s\n",
            "[CV 1/5] END xgbclassifier__max_depth=3, xgbclassifier__min_child_weight=16, xgbclassifier__n_estimators=700;, score=0.994 total time=  26.8s\n",
            "[CV 2/5] END xgbclassifier__max_depth=3, xgbclassifier__min_child_weight=16, xgbclassifier__n_estimators=700;, score=0.994 total time=  26.9s\n",
            "[CV 3/5] END xgbclassifier__max_depth=3, xgbclassifier__min_child_weight=16, xgbclassifier__n_estimators=700;, score=0.993 total time=  26.7s\n",
            "[CV 4/5] END xgbclassifier__max_depth=3, xgbclassifier__min_child_weight=16, xgbclassifier__n_estimators=700;, score=0.993 total time=  26.9s\n",
            "[CV 5/5] END xgbclassifier__max_depth=3, xgbclassifier__min_child_weight=16, xgbclassifier__n_estimators=700;, score=0.993 total time=  26.8s\n",
            "[CV 1/5] END xgbclassifier__max_depth=13, xgbclassifier__min_child_weight=4, xgbclassifier__n_estimators=200;, score=0.995 total time=  36.0s\n",
            "[CV 2/5] END xgbclassifier__max_depth=13, xgbclassifier__min_child_weight=4, xgbclassifier__n_estimators=200;, score=0.995 total time=  36.4s\n",
            "[CV 3/5] END xgbclassifier__max_depth=13, xgbclassifier__min_child_weight=4, xgbclassifier__n_estimators=200;, score=0.995 total time=  36.8s\n",
            "[CV 4/5] END xgbclassifier__max_depth=13, xgbclassifier__min_child_weight=4, xgbclassifier__n_estimators=200;, score=0.995 total time=  37.2s\n",
            "[CV 5/5] END xgbclassifier__max_depth=13, xgbclassifier__min_child_weight=4, xgbclassifier__n_estimators=200;, score=0.995 total time=  36.6s\n",
            "[CV 1/5] END xgbclassifier__max_depth=11, xgbclassifier__min_child_weight=4, xgbclassifier__n_estimators=300;, score=0.995 total time=  45.2s\n",
            "[CV 2/5] END xgbclassifier__max_depth=11, xgbclassifier__min_child_weight=4, xgbclassifier__n_estimators=300;, score=0.995 total time=  44.7s\n",
            "[CV 3/5] END xgbclassifier__max_depth=11, xgbclassifier__min_child_weight=4, xgbclassifier__n_estimators=300;, score=0.995 total time=  45.1s\n",
            "[CV 4/5] END xgbclassifier__max_depth=11, xgbclassifier__min_child_weight=4, xgbclassifier__n_estimators=300;, score=0.995 total time=  45.5s\n",
            "[CV 5/5] END xgbclassifier__max_depth=11, xgbclassifier__min_child_weight=4, xgbclassifier__n_estimators=300;, score=0.995 total time=  45.2s\n",
            "[CV 1/5] END xgbclassifier__max_depth=11, xgbclassifier__min_child_weight=16, xgbclassifier__n_estimators=900;, score=0.995 total time= 2.0min\n",
            "[CV 2/5] END xgbclassifier__max_depth=11, xgbclassifier__min_child_weight=16, xgbclassifier__n_estimators=900;, score=0.995 total time= 2.0min\n",
            "[CV 3/5] END xgbclassifier__max_depth=11, xgbclassifier__min_child_weight=16, xgbclassifier__n_estimators=900;, score=0.994 total time= 2.2min\n",
            "[CV 4/5] END xgbclassifier__max_depth=11, xgbclassifier__min_child_weight=16, xgbclassifier__n_estimators=900;, score=0.995 total time= 2.0min\n",
            "[CV 5/5] END xgbclassifier__max_depth=11, xgbclassifier__min_child_weight=16, xgbclassifier__n_estimators=900;, score=0.994 total time= 2.0min\n",
            "[CV 1/5] END xgbclassifier__max_depth=11, xgbclassifier__min_child_weight=4, xgbclassifier__n_estimators=800;, score=0.995 total time= 2.2min\n",
            "[CV 2/5] END xgbclassifier__max_depth=11, xgbclassifier__min_child_weight=4, xgbclassifier__n_estimators=800;, score=0.995 total time= 1.9min\n",
            "[CV 3/5] END xgbclassifier__max_depth=11, xgbclassifier__min_child_weight=4, xgbclassifier__n_estimators=800;, score=0.994 total time= 1.9min\n",
            "[CV 4/5] END xgbclassifier__max_depth=11, xgbclassifier__min_child_weight=4, xgbclassifier__n_estimators=800;, score=0.994 total time= 1.9min\n",
            "[CV 5/5] END xgbclassifier__max_depth=11, xgbclassifier__min_child_weight=4, xgbclassifier__n_estimators=800;, score=0.994 total time= 1.9min\n"
          ]
        },
        {
          "output_type": "execute_result",
          "data": {
            "text/plain": [
              "RandomizedSearchCV(cv=5,\n",
              "                   estimator=Pipeline(steps=[('ordinalencoder',\n",
              "                                              OrdinalEncoder(mapping=[{'col': 'Gender',\n",
              "                                                                       'mapping': {None: -2,\n",
              "                                                                                   'Female': 1,\n",
              "                                                                                   'Male': 2}},\n",
              "                                                                      {'col': 'Customer_Type',\n",
              "                                                                       'mapping': {None: -2,\n",
              "                                                                                   'Loyal Customer': 2,\n",
              "                                                                                   'disloyal Customer': 1}},\n",
              "                                                                      {'col': 'Type_of_Travel',\n",
              "                                                                       'mapping': {None: -2,\n",
              "                                                                                   'Business travel': 2,\n",
              "                                                                                   'Personal Travel': 1}},\n",
              "                                                                      {'col': 'Class',\n",
              "                                                                       'mapping': {None: -2,\n",
              "                                                                                   '...\n",
              "                                                            n_estimators=100,\n",
              "                                                            n_jobs=-1,\n",
              "                                                            num_parallel_tree=None,\n",
              "                                                            predictor=None,\n",
              "                                                            random_state=53,\n",
              "                                                            reg_alpha=None,\n",
              "                                                            reg_lambda=None, ...))]),\n",
              "                   param_distributions={'xgbclassifier__max_depth': array([ 3,  5,  7,  9, 11, 13]),\n",
              "                                        'xgbclassifier__min_child_weight': [4,\n",
              "                                                                            8,\n",
              "                                                                            16],\n",
              "                                        'xgbclassifier__n_estimators': array([100, 200, 300, 400, 500, 600, 700, 800, 900])},\n",
              "                   random_state=53, scoring='roc_auc', verbose=3)"
            ]
          },
          "metadata": {},
          "execution_count": 37
        }
      ]
    },
    {
      "cell_type": "code",
      "source": [
        "xgb_random.best_params_"
      ],
      "metadata": {
        "colab": {
          "base_uri": "https://localhost:8080/"
        },
        "id": "uu99G6A-djBq",
        "outputId": "7471d04f-f014-46a2-e050-f17c0bbee67c"
      },
      "execution_count": 38,
      "outputs": [
        {
          "output_type": "execute_result",
          "data": {
            "text/plain": [
              "{'xgbclassifier__n_estimators': 200,\n",
              " 'xgbclassifier__min_child_weight': 4,\n",
              " 'xgbclassifier__max_depth': 13}"
            ]
          },
          "metadata": {},
          "execution_count": 38
        }
      ]
    },
    {
      "cell_type": "code",
      "source": [
        "y_pred_xgb = xgb_random.best_estimator_.predict(X_val)\n",
        "y_pred_proba_xgb = xgb_random.best_estimator_.predict_proba(X_val)[:,1]\n",
        "\n",
        "print(\"훈련 auc \", xgb_random.best_estimator_.score(X_train, y_train))\n",
        "eval_models(y_pred_xgb,y_pred_proba_xgb)"
      ],
      "metadata": {
        "colab": {
          "base_uri": "https://localhost:8080/"
        },
        "id": "WjJ_uXTfdpt2",
        "outputId": "c86f9c91-1a5c-4e04-9cee-52946fd194ef"
      },
      "execution_count": 45,
      "outputs": [
        {
          "output_type": "stream",
          "name": "stdout",
          "text": [
            "훈련 auc  0.9969563177459909\n",
            "accuracy : 0.96\n",
            "precision : 0.97\n",
            "recall : 0.94\n",
            "f1 : 0.96\n",
            "auc score : 0.995\n"
          ]
        },
        {
          "output_type": "execute_result",
          "data": {
            "text/plain": [
              "(0.9645830325778355,\n",
              " 0.9741942883358183,\n",
              " 0.9432537479178235,\n",
              " 0.9584743850146695,\n",
              " 0.9954684557793979)"
            ]
          },
          "metadata": {},
          "execution_count": 45
        }
      ]
    },
    {
      "cell_type": "markdown",
      "source": [
        "## 모델 비교"
      ],
      "metadata": {
        "id": "ZBUDlWBOfnvV"
      }
    },
    {
      "cell_type": "code",
      "source": [
        "comparison_metrics = pd.DataFrame(index=['accuracy', 'precision', 'recall', 'f1', 'auc'], columns=['Base','Logistic', 'Randomforest', 'LGBM', 'XGBoost'])\n",
        "comparison_metrics['Base'] = eval_models(baseline,baseline)\n",
        "comparison_metrics['Logistic'] =eval_models(y_pred_LR,y_pred_proba_LR)\n",
        "comparison_metrics['Randomforest'] =eval_models(y_pred_rf,y_pred_proba_rf)\n",
        "comparison_metrics['LGBM'] =eval_models(y_pred_lgbm,y_pred_proba_lgbm)\n",
        "comparison_metrics['XGBoost'] =eval_models(y_pred_xgb,y_pred_proba_xgb)\n",
        "comparison_metrics.round(3)"
      ],
      "metadata": {
        "colab": {
          "base_uri": "https://localhost:8080/",
          "height": 695
        },
        "id": "NIClV3NGZ1i8",
        "outputId": "7ac54c7c-0734-4c3a-f67e-d7c193169634"
      },
      "execution_count": 51,
      "outputs": [
        {
          "output_type": "stream",
          "name": "stdout",
          "text": [
            "accuracy : 0.57\n",
            "precision : 0.0\n",
            "recall : 0.0\n",
            "f1 : 0.0\n",
            "auc score : 0.5\n",
            "accuracy : 0.87\n",
            "precision : 0.87\n",
            "recall : 0.83\n",
            "f1 : 0.85\n",
            "auc score : 0.926\n",
            "accuracy : 0.95\n",
            "precision : 0.96\n",
            "recall : 0.93\n",
            "f1 : 0.95\n",
            "auc score : 0.992\n",
            "accuracy : 0.96\n",
            "precision : 0.98\n",
            "recall : 0.94\n",
            "f1 : 0.96\n",
            "auc score : 0.996\n",
            "accuracy : 0.96\n",
            "precision : 0.97\n",
            "recall : 0.94\n",
            "f1 : 0.96\n",
            "auc score : 0.995\n"
          ]
        },
        {
          "output_type": "execute_result",
          "data": {
            "text/plain": [
              "            Base  Logistic  Randomforest   LGBM  XGBoost\n",
              "accuracy   0.567     0.874         0.954  0.965    0.965\n",
              "precision  0.000     0.874         0.960  0.976    0.974\n",
              "recall     0.000     0.828         0.932  0.941    0.943\n",
              "f1         0.000     0.850         0.946  0.958    0.958\n",
              "auc        0.500     0.926         0.992  0.996    0.995"
            ],
            "text/html": [
              "\n",
              "  <div id=\"df-4ff1dd0e-7508-4c98-8f2c-12e33c6ee20a\">\n",
              "    <div class=\"colab-df-container\">\n",
              "      <div>\n",
              "<style scoped>\n",
              "    .dataframe tbody tr th:only-of-type {\n",
              "        vertical-align: middle;\n",
              "    }\n",
              "\n",
              "    .dataframe tbody tr th {\n",
              "        vertical-align: top;\n",
              "    }\n",
              "\n",
              "    .dataframe thead th {\n",
              "        text-align: right;\n",
              "    }\n",
              "</style>\n",
              "<table border=\"1\" class=\"dataframe\">\n",
              "  <thead>\n",
              "    <tr style=\"text-align: right;\">\n",
              "      <th></th>\n",
              "      <th>Base</th>\n",
              "      <th>Logistic</th>\n",
              "      <th>Randomforest</th>\n",
              "      <th>LGBM</th>\n",
              "      <th>XGBoost</th>\n",
              "    </tr>\n",
              "  </thead>\n",
              "  <tbody>\n",
              "    <tr>\n",
              "      <th>accuracy</th>\n",
              "      <td>0.567</td>\n",
              "      <td>0.874</td>\n",
              "      <td>0.954</td>\n",
              "      <td>0.965</td>\n",
              "      <td>0.965</td>\n",
              "    </tr>\n",
              "    <tr>\n",
              "      <th>precision</th>\n",
              "      <td>0.000</td>\n",
              "      <td>0.874</td>\n",
              "      <td>0.960</td>\n",
              "      <td>0.976</td>\n",
              "      <td>0.974</td>\n",
              "    </tr>\n",
              "    <tr>\n",
              "      <th>recall</th>\n",
              "      <td>0.000</td>\n",
              "      <td>0.828</td>\n",
              "      <td>0.932</td>\n",
              "      <td>0.941</td>\n",
              "      <td>0.943</td>\n",
              "    </tr>\n",
              "    <tr>\n",
              "      <th>f1</th>\n",
              "      <td>0.000</td>\n",
              "      <td>0.850</td>\n",
              "      <td>0.946</td>\n",
              "      <td>0.958</td>\n",
              "      <td>0.958</td>\n",
              "    </tr>\n",
              "    <tr>\n",
              "      <th>auc</th>\n",
              "      <td>0.500</td>\n",
              "      <td>0.926</td>\n",
              "      <td>0.992</td>\n",
              "      <td>0.996</td>\n",
              "      <td>0.995</td>\n",
              "    </tr>\n",
              "  </tbody>\n",
              "</table>\n",
              "</div>\n",
              "      <button class=\"colab-df-convert\" onclick=\"convertToInteractive('df-4ff1dd0e-7508-4c98-8f2c-12e33c6ee20a')\"\n",
              "              title=\"Convert this dataframe to an interactive table.\"\n",
              "              style=\"display:none;\">\n",
              "        \n",
              "  <svg xmlns=\"http://www.w3.org/2000/svg\" height=\"24px\"viewBox=\"0 0 24 24\"\n",
              "       width=\"24px\">\n",
              "    <path d=\"M0 0h24v24H0V0z\" fill=\"none\"/>\n",
              "    <path d=\"M18.56 5.44l.94 2.06.94-2.06 2.06-.94-2.06-.94-.94-2.06-.94 2.06-2.06.94zm-11 1L8.5 8.5l.94-2.06 2.06-.94-2.06-.94L8.5 2.5l-.94 2.06-2.06.94zm10 10l.94 2.06.94-2.06 2.06-.94-2.06-.94-.94-2.06-.94 2.06-2.06.94z\"/><path d=\"M17.41 7.96l-1.37-1.37c-.4-.4-.92-.59-1.43-.59-.52 0-1.04.2-1.43.59L10.3 9.45l-7.72 7.72c-.78.78-.78 2.05 0 2.83L4 21.41c.39.39.9.59 1.41.59.51 0 1.02-.2 1.41-.59l7.78-7.78 2.81-2.81c.8-.78.8-2.07 0-2.86zM5.41 20L4 18.59l7.72-7.72 1.47 1.35L5.41 20z\"/>\n",
              "  </svg>\n",
              "      </button>\n",
              "      \n",
              "  <style>\n",
              "    .colab-df-container {\n",
              "      display:flex;\n",
              "      flex-wrap:wrap;\n",
              "      gap: 12px;\n",
              "    }\n",
              "\n",
              "    .colab-df-convert {\n",
              "      background-color: #E8F0FE;\n",
              "      border: none;\n",
              "      border-radius: 50%;\n",
              "      cursor: pointer;\n",
              "      display: none;\n",
              "      fill: #1967D2;\n",
              "      height: 32px;\n",
              "      padding: 0 0 0 0;\n",
              "      width: 32px;\n",
              "    }\n",
              "\n",
              "    .colab-df-convert:hover {\n",
              "      background-color: #E2EBFA;\n",
              "      box-shadow: 0px 1px 2px rgba(60, 64, 67, 0.3), 0px 1px 3px 1px rgba(60, 64, 67, 0.15);\n",
              "      fill: #174EA6;\n",
              "    }\n",
              "\n",
              "    [theme=dark] .colab-df-convert {\n",
              "      background-color: #3B4455;\n",
              "      fill: #D2E3FC;\n",
              "    }\n",
              "\n",
              "    [theme=dark] .colab-df-convert:hover {\n",
              "      background-color: #434B5C;\n",
              "      box-shadow: 0px 1px 3px 1px rgba(0, 0, 0, 0.15);\n",
              "      filter: drop-shadow(0px 1px 2px rgba(0, 0, 0, 0.3));\n",
              "      fill: #FFFFFF;\n",
              "    }\n",
              "  </style>\n",
              "\n",
              "      <script>\n",
              "        const buttonEl =\n",
              "          document.querySelector('#df-4ff1dd0e-7508-4c98-8f2c-12e33c6ee20a button.colab-df-convert');\n",
              "        buttonEl.style.display =\n",
              "          google.colab.kernel.accessAllowed ? 'block' : 'none';\n",
              "\n",
              "        async function convertToInteractive(key) {\n",
              "          const element = document.querySelector('#df-4ff1dd0e-7508-4c98-8f2c-12e33c6ee20a');\n",
              "          const dataTable =\n",
              "            await google.colab.kernel.invokeFunction('convertToInteractive',\n",
              "                                                     [key], {});\n",
              "          if (!dataTable) return;\n",
              "\n",
              "          const docLinkHtml = 'Like what you see? Visit the ' +\n",
              "            '<a target=\"_blank\" href=https://colab.research.google.com/notebooks/data_table.ipynb>data table notebook</a>'\n",
              "            + ' to learn more about interactive tables.';\n",
              "          element.innerHTML = '';\n",
              "          dataTable['output_type'] = 'display_data';\n",
              "          await google.colab.output.renderOutput(dataTable, element);\n",
              "          const docLink = document.createElement('div');\n",
              "          docLink.innerHTML = docLinkHtml;\n",
              "          element.appendChild(docLink);\n",
              "        }\n",
              "      </script>\n",
              "    </div>\n",
              "  </div>\n",
              "  "
            ]
          },
          "metadata": {},
          "execution_count": 51
        }
      ]
    },
    {
      "cell_type": "code",
      "source": [
        "\n",
        "fpr, tpr, thresholds = roc_curve(y_val,y_pred_proba_LR)\n",
        "plt.plot(fpr, tpr, label='Logistic Regression', color = 'red',alpha=0.7)\n",
        "\n",
        "fpr, tpr, thresholds = roc_curve(y_val,y_pred_proba_rf)\n",
        "plt.plot(fpr, tpr, label='Randomforest', color = 'blue',lw=1,alpha=0.7)\n",
        "\n",
        "fpr, tpr, thresholds = roc_curve(y_val,y_pred_proba_lgbm)\n",
        "plt.plot(fpr, tpr, label='LGBMClassifier', color = 'green',lw=2,alpha=0.7)\n",
        "\n",
        "fpr, tpr, thresholds = roc_curve(y_val,y_pred_proba_xgb)\n",
        "plt.plot(fpr, tpr, label='XGBClassifier', color = 'purple',lw=1 ,alpha=0.7)\n",
        "\n",
        "fpr, tpr, thresholds = roc_curve(y_val,baseline)\n",
        "plt.plot(fpr, tpr, label='base',linestyle='--', color = 'orange',alpha=0.7)\n",
        "\n",
        "plt.title('ROC curve')\n",
        "plt.xlabel('FPR(Fall-out)')\n",
        "plt.ylabel('TPR(Recall)')\n",
        "plt.legend();"
      ],
      "metadata": {
        "colab": {
          "base_uri": "https://localhost:8080/",
          "height": 571
        },
        "id": "ftbnY1obg1CB",
        "outputId": "7cfca608-72bd-4dce-96af-f414c5ea96bd"
      },
      "execution_count": 62,
      "outputs": [
        {
          "output_type": "display_data",
          "data": {
            "text/plain": [
              "<Figure size 864x576 with 1 Axes>"
            ],
            "image/png": "[encoded data removed]"
          },
          "metadata": {
            "needs_background": "light"
          }
        }
      ]
    },
    {
      "cell_type": "markdown",
      "source": [
        "성능과 모델 속도 등 여러가지 요소에서 모두 뛰어난 모습을 보이는 LGBMClassifier를 채용한다."
      ],
      "metadata": {
        "id": "pIsoClfwgak8"
      }
    }
  ]
}