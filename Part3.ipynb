{
  "nbformat": 4,
  "nbformat_minor": 0,
  "metadata": {
    "colab": {
      "provenance": [],
      "collapsed_sections": [],
      "toc_visible": true,
      "authorship_tag": "ABX9TyNDmHWenzscfeueQPCvHl5n",
      "include_colab_link": true
    },
    "kernelspec": {
      "name": "python3",
      "display_name": "Python 3"
    },
    "language_info": {
      "name": "python"
    }
  },
  "cells": [
    {
      "cell_type": "markdown",
      "metadata": {
        "id": "view-in-github",
        "colab_type": "text"
      },
      "source": [
        "<a href=\"https://colab.research.google.com/github/SYKIM5396/Airline_Satisfaction/blob/main/Part3.ipynb\" target=\"_parent\"><img src=\"https://colab.research.google.com/assets/colab-badge.svg\" alt=\"Open In Colab\"/></a>"
      ]
    },
    {
      "cell_type": "code",
      "source": [
        "!pip install category_encoders\n",
        "!pip install --upgrade xgboost\n",
        "!pip install --upgrade lightgbm"
      ],
      "metadata": {
        "id": "eDgxvHQchXO_",
        "outputId": "9a4b6144-fbac-4f28-fc61-1d4ed56e932b",
        "colab": {
          "base_uri": "https://localhost:8080/"
        }
      },
      "execution_count": 1,
      "outputs": [
        {
          "output_type": "stream",
          "name": "stdout",
          "text": [
            "Looking in indexes: https://pypi.org/simple, https://us-python.pkg.dev/colab-wheels/public/simple/\n",
            "Collecting category_encoders\n",
            "  Downloading category_encoders-2.5.0-py2.py3-none-any.whl (69 kB)\n",
            "\u001b[K     |████████████████████████████████| 69 kB 5.2 MB/s \n",
            "\u001b[?25hRequirement already satisfied: numpy>=1.14.0 in /usr/local/lib/python3.7/dist-packages (from category_encoders) (1.21.6)\n",
            "Requirement already satisfied: scikit-learn>=0.20.0 in /usr/local/lib/python3.7/dist-packages (from category_encoders) (1.0.2)\n",
            "Requirement already satisfied: statsmodels>=0.9.0 in /usr/local/lib/python3.7/dist-packages (from category_encoders) (0.12.2)\n",
            "Requirement already satisfied: pandas>=1.0.5 in /usr/local/lib/python3.7/dist-packages (from category_encoders) (1.3.5)\n",
            "Requirement already satisfied: scipy>=1.0.0 in /usr/local/lib/python3.7/dist-packages (from category_encoders) (1.7.3)\n",
            "Requirement already satisfied: patsy>=0.5.1 in /usr/local/lib/python3.7/dist-packages (from category_encoders) (0.5.2)\n",
            "Requirement already satisfied: python-dateutil>=2.7.3 in /usr/local/lib/python3.7/dist-packages (from pandas>=1.0.5->category_encoders) (2.8.2)\n",
            "Requirement already satisfied: pytz>=2017.3 in /usr/local/lib/python3.7/dist-packages (from pandas>=1.0.5->category_encoders) (2022.2.1)\n",
            "Requirement already satisfied: six in /usr/local/lib/python3.7/dist-packages (from patsy>=0.5.1->category_encoders) (1.15.0)\n",
            "Requirement already satisfied: threadpoolctl>=2.0.0 in /usr/local/lib/python3.7/dist-packages (from scikit-learn>=0.20.0->category_encoders) (3.1.0)\n",
            "Requirement already satisfied: joblib>=0.11 in /usr/local/lib/python3.7/dist-packages (from scikit-learn>=0.20.0->category_encoders) (1.1.0)\n",
            "Installing collected packages: category-encoders\n",
            "Successfully installed category-encoders-2.5.0\n",
            "Looking in indexes: https://pypi.org/simple, https://us-python.pkg.dev/colab-wheels/public/simple/\n",
            "Requirement already satisfied: xgboost in /usr/local/lib/python3.7/dist-packages (0.90)\n",
            "Collecting xgboost\n",
            "  Downloading xgboost-1.6.2-py3-none-manylinux2014_x86_64.whl (255.9 MB)\n",
            "\u001b[K     |████████████████████████████████| 255.9 MB 49 kB/s \n",
            "\u001b[?25hRequirement already satisfied: numpy in /usr/local/lib/python3.7/dist-packages (from xgboost) (1.21.6)\n",
            "Requirement already satisfied: scipy in /usr/local/lib/python3.7/dist-packages (from xgboost) (1.7.3)\n",
            "Installing collected packages: xgboost\n",
            "  Attempting uninstall: xgboost\n",
            "    Found existing installation: xgboost 0.90\n",
            "    Uninstalling xgboost-0.90:\n",
            "      Successfully uninstalled xgboost-0.90\n",
            "Successfully installed xgboost-1.6.2\n",
            "Looking in indexes: https://pypi.org/simple, https://us-python.pkg.dev/colab-wheels/public/simple/\n",
            "Requirement already satisfied: lightgbm in /usr/local/lib/python3.7/dist-packages (2.2.3)\n",
            "Collecting lightgbm\n",
            "  Downloading lightgbm-3.3.2-py3-none-manylinux1_x86_64.whl (2.0 MB)\n",
            "\u001b[K     |████████████████████████████████| 2.0 MB 23.7 MB/s \n",
            "\u001b[?25hRequirement already satisfied: scipy in /usr/local/lib/python3.7/dist-packages (from lightgbm) (1.7.3)\n",
            "Requirement already satisfied: numpy in /usr/local/lib/python3.7/dist-packages (from lightgbm) (1.21.6)\n",
            "Requirement already satisfied: wheel in /usr/local/lib/python3.7/dist-packages (from lightgbm) (0.37.1)\n",
            "Requirement already satisfied: scikit-learn!=0.22.0 in /usr/local/lib/python3.7/dist-packages (from lightgbm) (1.0.2)\n",
            "Requirement already satisfied: threadpoolctl>=2.0.0 in /usr/local/lib/python3.7/dist-packages (from scikit-learn!=0.22.0->lightgbm) (3.1.0)\n",
            "Requirement already satisfied: joblib>=0.11 in /usr/local/lib/python3.7/dist-packages (from scikit-learn!=0.22.0->lightgbm) (1.1.0)\n",
            "Installing collected packages: lightgbm\n",
            "  Attempting uninstall: lightgbm\n",
            "    Found existing installation: lightgbm 2.2.3\n",
            "    Uninstalling lightgbm-2.2.3:\n",
            "      Successfully uninstalled lightgbm-2.2.3\n",
            "Successfully installed lightgbm-3.3.2\n"
          ]
        }
      ]
    },
    {
      "cell_type": "code",
      "execution_count": 2,
      "metadata": {
        "id": "bGztgUC-ctTR"
      },
      "outputs": [],
      "source": [
        "import pandas as pd\n",
        "import matplotlib.pyplot as plt\n",
        "import seaborn as sns\n",
        "from pandas_profiling import ProfileReport\n",
        "\n",
        "%matplotlib inline\n",
        "plt.rcParams[\"figure.dpi\"] = 144\n",
        "\n",
        "import numpy as np\n",
        "from sklearn.model_selection import train_test_split\n",
        "from category_encoders import OneHotEncoder, OrdinalEncoder\n",
        "from xgboost import XGBClassifier\n",
        "from sklearn.impute import SimpleImputer\n",
        "from sklearn.pipeline import make_pipeline\n",
        "from sklearn.metrics import classification_report\n",
        "from sklearn.preprocessing import StandardScaler\n",
        "from sklearn.linear_model import LogisticRegression\n",
        "from sklearn.linear_model import LogisticRegressionCV\n",
        "from sklearn.metrics import f1_score\n",
        "from sklearn.tree import DecisionTreeClassifier\n",
        "from sklearn.ensemble import RandomForestClassifier\n",
        "from sklearn.metrics import accuracy_score, recall_score, precision_score, f1_score\n",
        "from sklearn.metrics import roc_curve, roc_auc_score\n",
        "from sklearn.model_selection import RandomizedSearchCV\n",
        "from lightgbm import LGBMClassifier\n",
        "\n",
        "import warnings\n",
        "warnings.filterwarnings(\"ignore\")\n"
      ]
    },
    {
      "cell_type": "markdown",
      "source": [
        "데이터 불러오기"
      ],
      "metadata": {
        "id": "LFFY4JTbd6ok"
      }
    },
    {
      "cell_type": "code",
      "source": [
        "#데이터셋 불러오기\n",
        "train = pd.read_csv('https://raw.githubusercontent.com/SYKIM5396/Airline_Satisfaction/main/train_processed.csv')\n",
        "test = pd.read_csv('https://raw.githubusercontent.com/SYKIM5396/Airline_Satisfaction/main/test_processed.csv')"
      ],
      "metadata": {
        "id": "RXtH7QX4c1u0"
      },
      "execution_count": 3,
      "outputs": []
    },
    {
      "cell_type": "markdown",
      "source": [
        "# 3.다양한 모델 설계 및 비교"
      ],
      "metadata": {
        "id": "e--E__x5c18k"
      }
    },
    {
      "cell_type": "markdown",
      "source": [
        "데이터 분리"
      ],
      "metadata": {
        "id": "MHhRKe0tlAfZ"
      }
    },
    {
      "cell_type": "code",
      "source": [
        "target = 'satisfaction'\n",
        "\n",
        "train, val = train_test_split(\n",
        "    train, train_size=0.80, test_size=0.20, stratify=train[target], random_state=53)\n",
        "\n",
        "X_train, y_train = train.drop(columns=target), train[target]\n",
        "X_val, y_val = val.drop(columns=target), val[target]\n",
        "X_test, y_test = test.drop(columns=target), test[target]"
      ],
      "metadata": {
        "id": "WbASb9rrkqvG"
      },
      "execution_count": 4,
      "outputs": []
    },
    {
      "cell_type": "markdown",
      "source": [
        "## 기준모델 선정"
      ],
      "metadata": {
        "id": "Dgluipo_sIB-"
      }
    },
    {
      "cell_type": "markdown",
      "source": [
        "기준모델은 타겟의 최빈 클래스로 설정합니다."
      ],
      "metadata": {
        "id": "wkaJ_g4_sZ-Y"
      }
    },
    {
      "cell_type": "code",
      "source": [
        "def eval_models(y_pred, y_pred_proba, y_real=y_val) :\n",
        "    accuracy = accuracy_score(y_real, y_pred)\n",
        "    precision = precision_score(y_real, y_pred)\n",
        "    recall = recall_score(y_real, y_pred)\n",
        "    f1 = f1_score(y_real, y_pred)\n",
        "    auc = roc_auc_score(y_val, y_pred_proba)\n",
        "\n",
        "    print(f'accuracy : {accuracy.round(2)}')\n",
        "    print(f'precision : {precision.round(2)}')\n",
        "    print(f'recall : {recall.round(2)}')\n",
        "    print(f'f1 : {f1.round(2)}')\n",
        "    print(f\"auc score : {auc.round(3)}\")\n",
        "\n",
        "    return accuracy, precision, recall, f1, auc"
      ],
      "metadata": {
        "id": "zP8M0vX9oXC4"
      },
      "execution_count": 5,
      "outputs": []
    },
    {
      "cell_type": "code",
      "source": [
        "base = y_train.mode()[0]\n",
        "baseline = len(y_val) * [base]\n",
        "\n",
        "eval_models(baseline,baseline);"
      ],
      "metadata": {
        "colab": {
          "base_uri": "https://localhost:8080/"
        },
        "id": "LZSRuAgkmJ9J",
        "outputId": "fdc5533a-fb03-4fb8-fa82-2840813ecaa2"
      },
      "execution_count": 6,
      "outputs": [
        {
          "output_type": "stream",
          "name": "stdout",
          "text": [
            "accuracy : 0.57\n",
            "precision : 0.0\n",
            "recall : 0.0\n",
            "f1 : 0.0\n",
            "auc score : 0.5\n"
          ]
        }
      ]
    },
    {
      "cell_type": "markdown",
      "source": [
        "## Logistic Regression"
      ],
      "metadata": {
        "id": "7PKiUIYxua6x"
      }
    },
    {
      "cell_type": "code",
      "source": [
        "# 수치형 특성만 스케일링\n",
        "sclaer = StandardScaler()\n",
        "num_cols = ['Age','Flight_Distance','Average_delay','Overall_Rating']\n",
        "\n",
        "X_train_scaled, X_val_scaled, X_test_scaled = X_train.copy(), X_val.copy(), X_test.copy()\n",
        "\n",
        "scaler = StandardScaler()\n",
        "X_train_scaled[num_cols] = scaler.fit_transform(X_train_scaled[num_cols])\n",
        "X_val_scaled[num_cols] = scaler.transform(X_val_scaled[num_cols])\n",
        "X_test_scaled[num_cols] = scaler.transform(X_test_scaled[num_cols])"
      ],
      "metadata": {
        "id": "5AMPm7eWv6yn"
      },
      "execution_count": 7,
      "outputs": []
    },
    {
      "cell_type": "code",
      "source": [
        "nominal_cols = ['Gender', 'Customer_Type', 'Type_of_Travel', 'Class']\n",
        "\n",
        "Cs = np.power(10.0, np.arange(-10, 10))\n",
        "\n",
        "pire_LR_CV = make_pipeline(\n",
        "        OneHotEncoder(use_cat_names=True, cols = nominal_cols),\n",
        "        LogisticRegressionCV(Cs=Cs, cv=5, max_iter=1000,scoring=\"f1\", random_state=53)\n",
        "            )\n",
        "pire_LR_CV.fit(X_train_scaled, y_train)"
      ],
      "metadata": {
        "colab": {
          "base_uri": "https://localhost:8080/"
        },
        "id": "mILBHdrCuxkX",
        "outputId": "5017e74e-136e-4218-a273-0117f05099c8"
      },
      "execution_count": 8,
      "outputs": [
        {
          "output_type": "execute_result",
          "data": {
            "text/plain": [
              "Pipeline(steps=[('onehotencoder',\n",
              "                 OneHotEncoder(cols=['Gender', 'Customer_Type',\n",
              "                                     'Type_of_Travel', 'Class'],\n",
              "                               use_cat_names=True)),\n",
              "                ('logisticregressioncv',\n",
              "                 LogisticRegressionCV(Cs=array([1.e-10, 1.e-09, 1.e-08, 1.e-07, 1.e-06, 1.e-05, 1.e-04, 1.e-03,\n",
              "       1.e-02, 1.e-01, 1.e+00, 1.e+01, 1.e+02, 1.e+03, 1.e+04, 1.e+05,\n",
              "       1.e+06, 1.e+07, 1.e+08, 1.e+09]),\n",
              "                                      cv=5, max_iter=1000, random_state=53,\n",
              "                                      scoring='f1'))])"
            ]
          },
          "metadata": {},
          "execution_count": 8
        }
      ]
    },
    {
      "cell_type": "code",
      "source": [
        "#최적의 C는\n",
        "pire_LR_CV.named_steps['logisticregressioncv'].C_"
      ],
      "metadata": {
        "colab": {
          "base_uri": "https://localhost:8080/"
        },
        "id": "tSL1YXzvx9aW",
        "outputId": "355e78d9-0949-43bd-a2b4-297c4f2775ee"
      },
      "execution_count": 10,
      "outputs": [
        {
          "output_type": "execute_result",
          "data": {
            "text/plain": [
              "array([10000.])"
            ]
          },
          "metadata": {},
          "execution_count": 10
        }
      ]
    },
    {
      "cell_type": "code",
      "source": [
        "y_pred_LR = pire_LR_CV.predict(X_val_scaled)\n",
        "y_pred_proba_LR = pire_LR_CV.predict_proba(X_val_scaled)[:,1]\n",
        "\n",
        "print(\"훈련 f1 \", pire_LR_CV.score(X_train_scaled, y_train))\n",
        "eval_models(y_pred_LR,y_pred_proba_LR)"
      ],
      "metadata": {
        "colab": {
          "base_uri": "https://localhost:8080/"
        },
        "id": "Ezl-3hMs1Hd9",
        "outputId": "b6bcb3c6-e6a0-4d0a-bb5e-6ceb25af02e4"
      },
      "execution_count": 11,
      "outputs": [
        {
          "output_type": "stream",
          "name": "stdout",
          "text": [
            "훈련 f1  0.8537980238385098\n",
            "accuracy : 0.87\n",
            "precision : 0.87\n",
            "recall : 0.83\n",
            "f1 : 0.85\n",
            "auc score : 0.926\n"
          ]
        },
        {
          "output_type": "execute_result",
          "data": {
            "text/plain": [
              "(0.8733458447620422,\n",
              " 0.8727336530588373,\n",
              " 0.8285397001665741,\n",
              " 0.8500626637803349,\n",
              " 0.9260867019077567)"
            ]
          },
          "metadata": {},
          "execution_count": 11
        }
      ]
    },
    {
      "cell_type": "code",
      "source": [
        "#로지스틱 회귀모델의 회귀계수 확인\n",
        "pd.Series(pire_LR_CV.named_steps['logisticregressioncv'].coef_[0], pire_LR_CV.named_steps['logisticregressioncv'].feature_names_in_).sort_values(ascending=False)"
      ],
      "metadata": {
        "colab": {
          "base_uri": "https://localhost:8080/"
        },
        "id": "tek2RDQw2l-s",
        "outputId": "0ac87522-2c34-4d10-dacf-7e347261d1a6"
      },
      "execution_count": 12,
      "outputs": [
        {
          "output_type": "execute_result",
          "data": {
            "text/plain": [
              "Type_of_Travel_Business travel       1.350303\n",
              "Customer_Type_Loyal Customer         0.997185\n",
              "Online_boarding                      0.586215\n",
              "Class_Business                       0.514911\n",
              "Inflight_wifi_service                0.359833\n",
              "Checkin_service                      0.301174\n",
              "On-board_service                     0.276352\n",
              "Overall_Rating                       0.262757\n",
              "Leg_room_service                     0.226982\n",
              "Cleanliness                          0.187123\n",
              "Baggage_handling                     0.117800\n",
              "Inflight_service                     0.078277\n",
              "Inflight_entertainment               0.043114\n",
              "Seat_comfort                         0.038082\n",
              "Gender_Male                          0.010891\n",
              "Gate_location                        0.010636\n",
              "Flight_Distance                     -0.002212\n",
              "Gender_Female                       -0.023958\n",
              "Food_and_drink                      -0.053763\n",
              "Age                                 -0.115546\n",
              "Departure/Arrival_time_convenient   -0.156370\n",
              "Ease_of_Online_booking              -0.174104\n",
              "Average_delay                       -0.184684\n",
              "Class_Eco                           -0.202100\n",
              "Class_Eco Plus                      -0.325878\n",
              "Customer_Type_disloyal Customer     -1.010251\n",
              "Type_of_Travel_Personal Travel      -1.363369\n",
              "dtype: float64"
            ]
          },
          "metadata": {},
          "execution_count": 12
        }
      ]
    },
    {
      "cell_type": "markdown",
      "source": [
        "## RandomForest"
      ],
      "metadata": {
        "id": "D3MGQjB24B5s"
      }
    },
    {
      "cell_type": "code",
      "source": [
        "mapping = [{'col': 'Gender', 'mapping': {'Female' : 1,  'Male' : 2,  None :-2}},\n",
        " {'col': 'Customer_Type', 'mapping': {'disloyal Customer' :1, 'Loyal Customer' : 2,  None :-2}},\n",
        " {'col': 'Type_of_Travel', 'mapping': {'Personal Travel' :   1 ,  'Business travel' :  2, None :-2}},\n",
        " {'col': 'Class', 'mapping': {'Eco':1, 'Eco Plus' : 2 ,'Business':3,  None :-2}}\n",
        "]"
      ],
      "metadata": {
        "id": "DSmpz3FLGT8m"
      },
      "execution_count": 13,
      "outputs": []
    },
    {
      "cell_type": "code",
      "source": [
        "params = {'randomforestclassifier__max_depth': np.arange(3, 15, 2),\n",
        "               'randomforestclassifier__min_samples_split': [2, 4, 8, 16],\n",
        "               'randomforestclassifier__min_samples_leaf': [1, 2, 4]\n",
        "               }"
      ],
      "metadata": {
        "id": "TBJ98pDN43Bq"
      },
      "execution_count": 14,
      "outputs": []
    },
    {
      "cell_type": "code",
      "source": [
        "pipe_rf = make_pipeline(\n",
        "        OrdinalEncoder(mapping=mapping),\n",
        "        RandomForestClassifier(random_state=53,\n",
        "                               oob_score=False, \n",
        "                               n_estimators=100,\n",
        "                               n_jobs=-1)\n",
        "        )\n",
        "\n",
        "rf_random = RandomizedSearchCV(pipe_rf, param_distributions = params, scoring=\"f1\", n_iter = 10, cv = 5, verbose=3, random_state=53)\n",
        "rf_random.fit(X_train, y_train)"
      ],
      "metadata": {
        "colab": {
          "base_uri": "https://localhost:8080/"
        },
        "id": "y8NPqLv24YLs",
        "outputId": "3fc232d8-8f8d-4101-ac60-70399df25210"
      },
      "execution_count": 15,
      "outputs": [
        {
          "output_type": "stream",
          "name": "stdout",
          "text": [
            "Fitting 5 folds for each of 10 candidates, totalling 50 fits\n",
            "[CV 1/5] END randomforestclassifier__max_depth=9, randomforestclassifier__min_samples_leaf=4, randomforestclassifier__min_samples_split=16;, score=0.931 total time=   5.2s\n",
            "[CV 2/5] END randomforestclassifier__max_depth=9, randomforestclassifier__min_samples_leaf=4, randomforestclassifier__min_samples_split=16;, score=0.932 total time=   3.9s\n",
            "[CV 3/5] END randomforestclassifier__max_depth=9, randomforestclassifier__min_samples_leaf=4, randomforestclassifier__min_samples_split=16;, score=0.927 total time=   4.3s\n",
            "[CV 4/5] END randomforestclassifier__max_depth=9, randomforestclassifier__min_samples_leaf=4, randomforestclassifier__min_samples_split=16;, score=0.928 total time=   3.5s\n",
            "[CV 5/5] END randomforestclassifier__max_depth=9, randomforestclassifier__min_samples_leaf=4, randomforestclassifier__min_samples_split=16;, score=0.932 total time=   4.2s\n",
            "[CV 1/5] END randomforestclassifier__max_depth=3, randomforestclassifier__min_samples_leaf=4, randomforestclassifier__min_samples_split=8;, score=0.866 total time=   2.2s\n",
            "[CV 2/5] END randomforestclassifier__max_depth=3, randomforestclassifier__min_samples_leaf=4, randomforestclassifier__min_samples_split=8;, score=0.866 total time=   2.3s\n",
            "[CV 3/5] END randomforestclassifier__max_depth=3, randomforestclassifier__min_samples_leaf=4, randomforestclassifier__min_samples_split=8;, score=0.861 total time=   2.2s\n",
            "[CV 4/5] END randomforestclassifier__max_depth=3, randomforestclassifier__min_samples_leaf=4, randomforestclassifier__min_samples_split=8;, score=0.860 total time=   2.0s\n",
            "[CV 5/5] END randomforestclassifier__max_depth=3, randomforestclassifier__min_samples_leaf=4, randomforestclassifier__min_samples_split=8;, score=0.866 total time=   2.1s\n",
            "[CV 1/5] END randomforestclassifier__max_depth=7, randomforestclassifier__min_samples_leaf=2, randomforestclassifier__min_samples_split=16;, score=0.924 total time=   3.7s\n",
            "[CV 2/5] END randomforestclassifier__max_depth=7, randomforestclassifier__min_samples_leaf=2, randomforestclassifier__min_samples_split=16;, score=0.924 total time=   3.1s\n",
            "[CV 3/5] END randomforestclassifier__max_depth=7, randomforestclassifier__min_samples_leaf=2, randomforestclassifier__min_samples_split=16;, score=0.919 total time=   3.3s\n",
            "[CV 4/5] END randomforestclassifier__max_depth=7, randomforestclassifier__min_samples_leaf=2, randomforestclassifier__min_samples_split=16;, score=0.921 total time=   3.3s\n",
            "[CV 5/5] END randomforestclassifier__max_depth=7, randomforestclassifier__min_samples_leaf=2, randomforestclassifier__min_samples_split=16;, score=0.924 total time=   3.1s\n",
            "[CV 1/5] END randomforestclassifier__max_depth=3, randomforestclassifier__min_samples_leaf=2, randomforestclassifier__min_samples_split=2;, score=0.866 total time=   1.9s\n",
            "[CV 2/5] END randomforestclassifier__max_depth=3, randomforestclassifier__min_samples_leaf=2, randomforestclassifier__min_samples_split=2;, score=0.866 total time=   1.9s\n",
            "[CV 3/5] END randomforestclassifier__max_depth=3, randomforestclassifier__min_samples_leaf=2, randomforestclassifier__min_samples_split=2;, score=0.861 total time=   2.8s\n",
            "[CV 4/5] END randomforestclassifier__max_depth=3, randomforestclassifier__min_samples_leaf=2, randomforestclassifier__min_samples_split=2;, score=0.860 total time=   2.9s\n",
            "[CV 5/5] END randomforestclassifier__max_depth=3, randomforestclassifier__min_samples_leaf=2, randomforestclassifier__min_samples_split=2;, score=0.866 total time=   1.9s\n",
            "[CV 1/5] END randomforestclassifier__max_depth=3, randomforestclassifier__min_samples_leaf=1, randomforestclassifier__min_samples_split=16;, score=0.866 total time=   1.9s\n",
            "[CV 2/5] END randomforestclassifier__max_depth=3, randomforestclassifier__min_samples_leaf=1, randomforestclassifier__min_samples_split=16;, score=0.866 total time=   2.0s\n",
            "[CV 3/5] END randomforestclassifier__max_depth=3, randomforestclassifier__min_samples_leaf=1, randomforestclassifier__min_samples_split=16;, score=0.861 total time=   1.9s\n",
            "[CV 4/5] END randomforestclassifier__max_depth=3, randomforestclassifier__min_samples_leaf=1, randomforestclassifier__min_samples_split=16;, score=0.860 total time=   2.1s\n",
            "[CV 5/5] END randomforestclassifier__max_depth=3, randomforestclassifier__min_samples_leaf=1, randomforestclassifier__min_samples_split=16;, score=0.866 total time=   2.6s\n",
            "[CV 1/5] END randomforestclassifier__max_depth=5, randomforestclassifier__min_samples_leaf=2, randomforestclassifier__min_samples_split=4;, score=0.911 total time=   2.7s\n",
            "[CV 2/5] END randomforestclassifier__max_depth=5, randomforestclassifier__min_samples_leaf=2, randomforestclassifier__min_samples_split=4;, score=0.912 total time=   2.7s\n",
            "[CV 3/5] END randomforestclassifier__max_depth=5, randomforestclassifier__min_samples_leaf=2, randomforestclassifier__min_samples_split=4;, score=0.907 total time=   2.7s\n",
            "[CV 4/5] END randomforestclassifier__max_depth=5, randomforestclassifier__min_samples_leaf=2, randomforestclassifier__min_samples_split=4;, score=0.908 total time=   2.7s\n",
            "[CV 5/5] END randomforestclassifier__max_depth=5, randomforestclassifier__min_samples_leaf=2, randomforestclassifier__min_samples_split=4;, score=0.913 total time=   2.9s\n",
            "[CV 1/5] END randomforestclassifier__max_depth=11, randomforestclassifier__min_samples_leaf=2, randomforestclassifier__min_samples_split=4;, score=0.941 total time=   5.0s\n",
            "[CV 2/5] END randomforestclassifier__max_depth=11, randomforestclassifier__min_samples_leaf=2, randomforestclassifier__min_samples_split=4;, score=0.942 total time=   4.5s\n",
            "[CV 3/5] END randomforestclassifier__max_depth=11, randomforestclassifier__min_samples_leaf=2, randomforestclassifier__min_samples_split=4;, score=0.936 total time=   4.2s\n",
            "[CV 4/5] END randomforestclassifier__max_depth=11, randomforestclassifier__min_samples_leaf=2, randomforestclassifier__min_samples_split=4;, score=0.939 total time=   4.5s\n",
            "[CV 5/5] END randomforestclassifier__max_depth=11, randomforestclassifier__min_samples_leaf=2, randomforestclassifier__min_samples_split=4;, score=0.940 total time=   4.5s\n",
            "[CV 1/5] END randomforestclassifier__max_depth=13, randomforestclassifier__min_samples_leaf=4, randomforestclassifier__min_samples_split=8;, score=0.947 total time=   4.8s\n",
            "[CV 2/5] END randomforestclassifier__max_depth=13, randomforestclassifier__min_samples_leaf=4, randomforestclassifier__min_samples_split=8;, score=0.947 total time=   5.2s\n",
            "[CV 3/5] END randomforestclassifier__max_depth=13, randomforestclassifier__min_samples_leaf=4, randomforestclassifier__min_samples_split=8;, score=0.941 total time=   6.1s\n",
            "[CV 4/5] END randomforestclassifier__max_depth=13, randomforestclassifier__min_samples_leaf=4, randomforestclassifier__min_samples_split=8;, score=0.944 total time=   4.9s\n",
            "[CV 5/5] END randomforestclassifier__max_depth=13, randomforestclassifier__min_samples_leaf=4, randomforestclassifier__min_samples_split=8;, score=0.945 total time=   5.0s\n",
            "[CV 1/5] END randomforestclassifier__max_depth=13, randomforestclassifier__min_samples_leaf=4, randomforestclassifier__min_samples_split=4;, score=0.947 total time=   4.9s\n",
            "[CV 2/5] END randomforestclassifier__max_depth=13, randomforestclassifier__min_samples_leaf=4, randomforestclassifier__min_samples_split=4;, score=0.947 total time=   4.8s\n",
            "[CV 3/5] END randomforestclassifier__max_depth=13, randomforestclassifier__min_samples_leaf=4, randomforestclassifier__min_samples_split=4;, score=0.941 total time=   5.0s\n",
            "[CV 4/5] END randomforestclassifier__max_depth=13, randomforestclassifier__min_samples_leaf=4, randomforestclassifier__min_samples_split=4;, score=0.944 total time=   4.9s\n",
            "[CV 5/5] END randomforestclassifier__max_depth=13, randomforestclassifier__min_samples_leaf=4, randomforestclassifier__min_samples_split=4;, score=0.945 total time=   5.2s\n",
            "[CV 1/5] END randomforestclassifier__max_depth=5, randomforestclassifier__min_samples_leaf=2, randomforestclassifier__min_samples_split=16;, score=0.911 total time=   2.6s\n",
            "[CV 2/5] END randomforestclassifier__max_depth=5, randomforestclassifier__min_samples_leaf=2, randomforestclassifier__min_samples_split=16;, score=0.913 total time=   2.7s\n",
            "[CV 3/5] END randomforestclassifier__max_depth=5, randomforestclassifier__min_samples_leaf=2, randomforestclassifier__min_samples_split=16;, score=0.907 total time=   2.9s\n",
            "[CV 4/5] END randomforestclassifier__max_depth=5, randomforestclassifier__min_samples_leaf=2, randomforestclassifier__min_samples_split=16;, score=0.907 total time=   2.6s\n",
            "[CV 5/5] END randomforestclassifier__max_depth=5, randomforestclassifier__min_samples_leaf=2, randomforestclassifier__min_samples_split=16;, score=0.912 total time=   2.7s\n"
          ]
        },
        {
          "output_type": "execute_result",
          "data": {
            "text/plain": [
              "RandomizedSearchCV(cv=5,\n",
              "                   estimator=Pipeline(steps=[('ordinalencoder',\n",
              "                                              OrdinalEncoder(mapping=[{'col': 'Gender',\n",
              "                                                                       'mapping': {None: -2,\n",
              "                                                                                   'Female': 1,\n",
              "                                                                                   'Male': 2}},\n",
              "                                                                      {'col': 'Customer_Type',\n",
              "                                                                       'mapping': {None: -2,\n",
              "                                                                                   'Loyal Customer': 2,\n",
              "                                                                                   'disloyal Customer': 1}},\n",
              "                                                                      {'col': 'Type_of_Travel',\n",
              "                                                                       'mapping': {None: -2,\n",
              "                                                                                   'Business travel': 2,\n",
              "                                                                                   'Personal Travel': 1}},\n",
              "                                                                      {'col': 'Class',\n",
              "                                                                       'mapping': {None: -2,\n",
              "                                                                                   'Business': 3,\n",
              "                                                                                   'Eco': 1,\n",
              "                                                                                   'Eco Plus': 2}}])),\n",
              "                                             ('randomforestclassifier',\n",
              "                                              RandomForestClassifier(n_jobs=-1,\n",
              "                                                                     random_state=53))]),\n",
              "                   param_distributions={'randomforestclassifier__max_depth': array([ 3,  5,  7,  9, 11, 13]),\n",
              "                                        'randomforestclassifier__min_samples_leaf': [1,\n",
              "                                                                                     2,\n",
              "                                                                                     4],\n",
              "                                        'randomforestclassifier__min_samples_split': [2,\n",
              "                                                                                      4,\n",
              "                                                                                      8,\n",
              "                                                                                      16]},\n",
              "                   random_state=53, scoring='f1', verbose=3)"
            ]
          },
          "metadata": {},
          "execution_count": 15
        }
      ]
    },
    {
      "cell_type": "code",
      "source": [
        "rf_random.best_params_"
      ],
      "metadata": {
        "colab": {
          "base_uri": "https://localhost:8080/"
        },
        "id": "CvG79NQ5EZYB",
        "outputId": "eb6ba426-f9aa-41f2-88b6-b973a0ba5c78"
      },
      "execution_count": 16,
      "outputs": [
        {
          "output_type": "execute_result",
          "data": {
            "text/plain": [
              "{'randomforestclassifier__min_samples_split': 8,\n",
              " 'randomforestclassifier__min_samples_leaf': 4,\n",
              " 'randomforestclassifier__max_depth': 13}"
            ]
          },
          "metadata": {},
          "execution_count": 16
        }
      ]
    },
    {
      "cell_type": "code",
      "source": [
        "y_pred_rf = rf_random.best_estimator_.predict(X_val)\n",
        "y_pred_proba_rf = rf_random.best_estimator_.predict_proba(X_val)[:,1]\n",
        "\n",
        "print(\"훈련 f1 \", rf_random.best_estimator_.score(X_train, y_train))\n",
        "eval_models(y_pred_rf,y_pred_proba_rf)"
      ],
      "metadata": {
        "colab": {
          "base_uri": "https://localhost:8080/"
        },
        "id": "jvHggPjHFLRP",
        "outputId": "bda44afd-b4c7-4385-f774-c450d78d91c9"
      },
      "execution_count": 17,
      "outputs": [
        {
          "output_type": "stream",
          "name": "stdout",
          "text": [
            "훈련 f1  0.9620321691950483\n",
            "accuracy : 0.95\n",
            "precision : 0.96\n",
            "recall : 0.93\n",
            "f1 : 0.95\n",
            "auc score : 0.992\n"
          ]
        },
        {
          "output_type": "execute_result",
          "data": {
            "text/plain": [
              "(0.9539964390549059,\n",
              " 0.9603111060276793,\n",
              " 0.9323709050527484,\n",
              " 0.9461347757493801,\n",
              " 0.9919328105762499)"
            ]
          },
          "metadata": {},
          "execution_count": 17
        }
      ]
    },
    {
      "cell_type": "markdown",
      "source": [
        "## LGBMClassifier"
      ],
      "metadata": {
        "id": "Yk0JC2z4JmGc"
      }
    },
    {
      "cell_type": "code",
      "source": [
        "params = {'lgbmclassifier__max_depth': np.arange(-1, 15, 4),\n",
        "            'lgbmclassifier__min_child_weight': [2, 4, 8, 16],\n",
        "            'lgbmclassifier__n_estimators' : np.arange(100, 1000, 100)\n",
        "               }"
      ],
      "metadata": {
        "id": "tAZYUhFiJ-Nb"
      },
      "execution_count": 18,
      "outputs": []
    },
    {
      "cell_type": "code",
      "source": [
        "pipe_lgbm = make_pipeline(\n",
        "        OrdinalEncoder(mapping=mapping),\n",
        "        LGBMClassifier(random_state=53,\n",
        "                       learning_rate=0.1,                              \n",
        "                               n_jobs=-1)\n",
        "        )\n",
        "\n",
        "lgbm_random = RandomizedSearchCV(pipe_lgbm, param_distributions = params, scoring=\"f1\", n_iter = 10, cv = 5, verbose=3, random_state=53)\n",
        "lgbm_random.fit(X_train, y_train)"
      ],
      "metadata": {
        "colab": {
          "base_uri": "https://localhost:8080/"
        },
        "outputId": "81f4e36d-a7c1-46c5-f517-a5a14bc5d6c5",
        "id": "eRgIStvzJ-Nc"
      },
      "execution_count": 19,
      "outputs": [
        {
          "output_type": "stream",
          "name": "stdout",
          "text": [
            "Fitting 5 folds for each of 10 candidates, totalling 50 fits\n",
            "[CV 1/5] END lgbmclassifier__max_depth=-1, lgbmclassifier__min_child_weight=2, lgbmclassifier__n_estimators=900;, score=0.957 total time=   8.6s\n",
            "[CV 2/5] END lgbmclassifier__max_depth=-1, lgbmclassifier__min_child_weight=2, lgbmclassifier__n_estimators=900;, score=0.957 total time=   6.5s\n",
            "[CV 3/5] END lgbmclassifier__max_depth=-1, lgbmclassifier__min_child_weight=2, lgbmclassifier__n_estimators=900;, score=0.955 total time=   5.2s\n",
            "[CV 4/5] END lgbmclassifier__max_depth=-1, lgbmclassifier__min_child_weight=2, lgbmclassifier__n_estimators=900;, score=0.956 total time=   5.0s\n",
            "[CV 5/5] END lgbmclassifier__max_depth=-1, lgbmclassifier__min_child_weight=2, lgbmclassifier__n_estimators=900;, score=0.954 total time=   5.3s\n",
            "[CV 1/5] END lgbmclassifier__max_depth=11, lgbmclassifier__min_child_weight=8, lgbmclassifier__n_estimators=600;, score=0.958 total time=   4.0s\n",
            "[CV 2/5] END lgbmclassifier__max_depth=11, lgbmclassifier__min_child_weight=8, lgbmclassifier__n_estimators=600;, score=0.956 total time=   5.3s\n",
            "[CV 3/5] END lgbmclassifier__max_depth=11, lgbmclassifier__min_child_weight=8, lgbmclassifier__n_estimators=600;, score=0.955 total time=   4.1s\n",
            "[CV 4/5] END lgbmclassifier__max_depth=11, lgbmclassifier__min_child_weight=8, lgbmclassifier__n_estimators=600;, score=0.955 total time=   4.2s\n",
            "[CV 5/5] END lgbmclassifier__max_depth=11, lgbmclassifier__min_child_weight=8, lgbmclassifier__n_estimators=600;, score=0.955 total time=   4.0s\n",
            "[CV 1/5] END lgbmclassifier__max_depth=11, lgbmclassifier__min_child_weight=8, lgbmclassifier__n_estimators=500;, score=0.957 total time=   3.3s\n",
            "[CV 2/5] END lgbmclassifier__max_depth=11, lgbmclassifier__min_child_weight=8, lgbmclassifier__n_estimators=500;, score=0.957 total time=   3.5s\n",
            "[CV 3/5] END lgbmclassifier__max_depth=11, lgbmclassifier__min_child_weight=8, lgbmclassifier__n_estimators=500;, score=0.955 total time=   3.5s\n",
            "[CV 4/5] END lgbmclassifier__max_depth=11, lgbmclassifier__min_child_weight=8, lgbmclassifier__n_estimators=500;, score=0.956 total time=   3.4s\n",
            "[CV 5/5] END lgbmclassifier__max_depth=11, lgbmclassifier__min_child_weight=8, lgbmclassifier__n_estimators=500;, score=0.956 total time=   3.5s\n",
            "[CV 1/5] END lgbmclassifier__max_depth=7, lgbmclassifier__min_child_weight=8, lgbmclassifier__n_estimators=200;, score=0.959 total time=   1.5s\n",
            "[CV 2/5] END lgbmclassifier__max_depth=7, lgbmclassifier__min_child_weight=8, lgbmclassifier__n_estimators=200;, score=0.957 total time=   1.6s\n",
            "[CV 3/5] END lgbmclassifier__max_depth=7, lgbmclassifier__min_child_weight=8, lgbmclassifier__n_estimators=200;, score=0.956 total time=   1.7s\n",
            "[CV 4/5] END lgbmclassifier__max_depth=7, lgbmclassifier__min_child_weight=8, lgbmclassifier__n_estimators=200;, score=0.957 total time=   1.6s\n",
            "[CV 5/5] END lgbmclassifier__max_depth=7, lgbmclassifier__min_child_weight=8, lgbmclassifier__n_estimators=200;, score=0.955 total time=   1.5s\n",
            "[CV 1/5] END lgbmclassifier__max_depth=3, lgbmclassifier__min_child_weight=16, lgbmclassifier__n_estimators=900;, score=0.953 total time=   3.9s\n",
            "[CV 2/5] END lgbmclassifier__max_depth=3, lgbmclassifier__min_child_weight=16, lgbmclassifier__n_estimators=900;, score=0.954 total time=   5.0s\n",
            "[CV 3/5] END lgbmclassifier__max_depth=3, lgbmclassifier__min_child_weight=16, lgbmclassifier__n_estimators=900;, score=0.951 total time=   4.2s\n",
            "[CV 4/5] END lgbmclassifier__max_depth=3, lgbmclassifier__min_child_weight=16, lgbmclassifier__n_estimators=900;, score=0.951 total time=   4.2s\n",
            "[CV 5/5] END lgbmclassifier__max_depth=3, lgbmclassifier__min_child_weight=16, lgbmclassifier__n_estimators=900;, score=0.952 total time=   4.5s\n",
            "[CV 1/5] END lgbmclassifier__max_depth=11, lgbmclassifier__min_child_weight=2, lgbmclassifier__n_estimators=600;, score=0.958 total time=   3.5s\n",
            "[CV 2/5] END lgbmclassifier__max_depth=11, lgbmclassifier__min_child_weight=2, lgbmclassifier__n_estimators=600;, score=0.957 total time=   4.0s\n",
            "[CV 3/5] END lgbmclassifier__max_depth=11, lgbmclassifier__min_child_weight=2, lgbmclassifier__n_estimators=600;, score=0.955 total time=   4.0s\n",
            "[CV 4/5] END lgbmclassifier__max_depth=11, lgbmclassifier__min_child_weight=2, lgbmclassifier__n_estimators=600;, score=0.957 total time=   3.5s\n",
            "[CV 5/5] END lgbmclassifier__max_depth=11, lgbmclassifier__min_child_weight=2, lgbmclassifier__n_estimators=600;, score=0.955 total time=   3.5s\n",
            "[CV 1/5] END lgbmclassifier__max_depth=-1, lgbmclassifier__min_child_weight=8, lgbmclassifier__n_estimators=700;, score=0.957 total time=   6.1s\n",
            "[CV 2/5] END lgbmclassifier__max_depth=-1, lgbmclassifier__min_child_weight=8, lgbmclassifier__n_estimators=700;, score=0.958 total time=   4.6s\n",
            "[CV 3/5] END lgbmclassifier__max_depth=-1, lgbmclassifier__min_child_weight=8, lgbmclassifier__n_estimators=700;, score=0.955 total time=   5.5s\n",
            "[CV 4/5] END lgbmclassifier__max_depth=-1, lgbmclassifier__min_child_weight=8, lgbmclassifier__n_estimators=700;, score=0.956 total time=   6.5s\n",
            "[CV 5/5] END lgbmclassifier__max_depth=-1, lgbmclassifier__min_child_weight=8, lgbmclassifier__n_estimators=700;, score=0.955 total time=   4.8s\n",
            "[CV 1/5] END lgbmclassifier__max_depth=11, lgbmclassifier__min_child_weight=4, lgbmclassifier__n_estimators=200;, score=0.959 total time=   1.5s\n",
            "[CV 2/5] END lgbmclassifier__max_depth=11, lgbmclassifier__min_child_weight=4, lgbmclassifier__n_estimators=200;, score=0.958 total time=   1.5s\n",
            "[CV 3/5] END lgbmclassifier__max_depth=11, lgbmclassifier__min_child_weight=4, lgbmclassifier__n_estimators=200;, score=0.956 total time=   1.6s\n",
            "[CV 4/5] END lgbmclassifier__max_depth=11, lgbmclassifier__min_child_weight=4, lgbmclassifier__n_estimators=200;, score=0.958 total time=   1.6s\n",
            "[CV 5/5] END lgbmclassifier__max_depth=11, lgbmclassifier__min_child_weight=4, lgbmclassifier__n_estimators=200;, score=0.955 total time=   1.6s\n",
            "[CV 1/5] END lgbmclassifier__max_depth=3, lgbmclassifier__min_child_weight=8, lgbmclassifier__n_estimators=700;, score=0.953 total time=   3.2s\n",
            "[CV 2/5] END lgbmclassifier__max_depth=3, lgbmclassifier__min_child_weight=8, lgbmclassifier__n_estimators=700;, score=0.955 total time=   3.4s\n",
            "[CV 3/5] END lgbmclassifier__max_depth=3, lgbmclassifier__min_child_weight=8, lgbmclassifier__n_estimators=700;, score=0.951 total time=   3.4s\n",
            "[CV 4/5] END lgbmclassifier__max_depth=3, lgbmclassifier__min_child_weight=8, lgbmclassifier__n_estimators=700;, score=0.951 total time=   3.3s\n",
            "[CV 5/5] END lgbmclassifier__max_depth=3, lgbmclassifier__min_child_weight=8, lgbmclassifier__n_estimators=700;, score=0.952 total time=   3.3s\n",
            "[CV 1/5] END lgbmclassifier__max_depth=3, lgbmclassifier__min_child_weight=16, lgbmclassifier__n_estimators=400;, score=0.950 total time=   2.1s\n",
            "[CV 2/5] END lgbmclassifier__max_depth=3, lgbmclassifier__min_child_weight=16, lgbmclassifier__n_estimators=400;, score=0.953 total time=   2.0s\n",
            "[CV 3/5] END lgbmclassifier__max_depth=3, lgbmclassifier__min_child_weight=16, lgbmclassifier__n_estimators=400;, score=0.949 total time=   2.5s\n",
            "[CV 4/5] END lgbmclassifier__max_depth=3, lgbmclassifier__min_child_weight=16, lgbmclassifier__n_estimators=400;, score=0.950 total time=   2.1s\n",
            "[CV 5/5] END lgbmclassifier__max_depth=3, lgbmclassifier__min_child_weight=16, lgbmclassifier__n_estimators=400;, score=0.948 total time=   2.1s\n"
          ]
        },
        {
          "output_type": "execute_result",
          "data": {
            "text/plain": [
              "RandomizedSearchCV(cv=5,\n",
              "                   estimator=Pipeline(steps=[('ordinalencoder',\n",
              "                                              OrdinalEncoder(mapping=[{'col': 'Gender',\n",
              "                                                                       'mapping': {None: -2,\n",
              "                                                                                   'Female': 1,\n",
              "                                                                                   'Male': 2}},\n",
              "                                                                      {'col': 'Customer_Type',\n",
              "                                                                       'mapping': {None: -2,\n",
              "                                                                                   'Loyal Customer': 2,\n",
              "                                                                                   'disloyal Customer': 1}},\n",
              "                                                                      {'col': 'Type_of_Travel',\n",
              "                                                                       'mapping': {None: -2,\n",
              "                                                                                   'Business travel': 2,\n",
              "                                                                                   'Personal Travel': 1}},\n",
              "                                                                      {'col': 'Class',\n",
              "                                                                       'mapping': {None: -2,\n",
              "                                                                                   'Business': 3,\n",
              "                                                                                   'Eco': 1,\n",
              "                                                                                   'Eco Plus': 2}}])),\n",
              "                                             ('lgbmclassifier',\n",
              "                                              LGBMClassifier(random_state=53))]),\n",
              "                   param_distributions={'lgbmclassifier__max_depth': array([-1,  3,  7, 11]),\n",
              "                                        'lgbmclassifier__min_child_weight': [2,\n",
              "                                                                             4,\n",
              "                                                                             8,\n",
              "                                                                             16],\n",
              "                                        'lgbmclassifier__n_estimators': array([100, 200, 300, 400, 500, 600, 700, 800, 900])},\n",
              "                   random_state=53, scoring='f1', verbose=3)"
            ]
          },
          "metadata": {},
          "execution_count": 19
        }
      ]
    },
    {
      "cell_type": "code",
      "source": [
        "lgbm_random.best_params_"
      ],
      "metadata": {
        "colab": {
          "base_uri": "https://localhost:8080/"
        },
        "id": "JUbNJMYuOvOt",
        "outputId": "9e7d2ef0-338b-48c8-aeab-285ed0994760"
      },
      "execution_count": 20,
      "outputs": [
        {
          "output_type": "execute_result",
          "data": {
            "text/plain": [
              "{'lgbmclassifier__n_estimators': 200,\n",
              " 'lgbmclassifier__min_child_weight': 4,\n",
              " 'lgbmclassifier__max_depth': 11}"
            ]
          },
          "metadata": {},
          "execution_count": 20
        }
      ]
    },
    {
      "cell_type": "code",
      "source": [
        "y_pred_lgbm = lgbm_random.best_estimator_.predict(X_val)\n",
        "y_pred_proba_lgbm = lgbm_random.best_estimator_.predict_proba(X_val)[:,1]\n",
        "\n",
        "print(\"훈련 f1 \", lgbm_random.best_estimator_.score(X_train, y_train))\n",
        "eval_models(y_pred_lgbm,y_pred_proba_lgbm)"
      ],
      "metadata": {
        "colab": {
          "base_uri": "https://localhost:8080/"
        },
        "id": "NptzxVknO6YE",
        "outputId": "634992e6-307d-4cc4-86d3-73e9b2bf327e"
      },
      "execution_count": 21,
      "outputs": [
        {
          "output_type": "stream",
          "name": "stdout",
          "text": [
            "훈련 f1  0.9715000661670056\n",
            "accuracy : 0.96\n",
            "precision : 0.98\n",
            "recall : 0.94\n",
            "f1 : 0.96\n",
            "auc score : 0.996\n"
          ]
        },
        {
          "output_type": "execute_result",
          "data": {
            "text/plain": [
              "(0.9645349116981858,\n",
              " 0.9762672811059908,\n",
              " 0.9410327595780122,\n",
              " 0.9583262651964942,\n",
              " 0.9955792128618159)"
            ]
          },
          "metadata": {},
          "execution_count": 21
        }
      ]
    },
    {
      "cell_type": "markdown",
      "source": [
        "## XGBClassifier"
      ],
      "metadata": {
        "id": "ja_N8nz5Pb-z"
      }
    },
    {
      "cell_type": "code",
      "source": [
        "params={'xgbclassifier__max_depth': np.arange(3, 15, 2),\n",
        "        \"xgbclassifier__min_child_weight\" : [4,8,16],\n",
        "        \"xgbclassifier__n_estimators\" : np.arange(100, 800, 100)\n",
        "    }"
      ],
      "metadata": {
        "id": "_uoI_MzAPn2s"
      },
      "execution_count": 22,
      "outputs": []
    },
    {
      "cell_type": "code",
      "source": [
        "pipe_xgb = make_pipeline(\n",
        "        OrdinalEncoder(mapping=mapping),\n",
        "        XGBClassifier(\n",
        "            objective=\"binary:logistic\",\n",
        "            eval_metric=\"error\",\n",
        "            random_state=53,\n",
        "            learning_rate=0.1,\n",
        "            n_jobs=-1,\n",
        "            ))\n",
        "        \n",
        "xgb_random = RandomizedSearchCV(pipe_xgb, param_distributions = params, scoring=\"f1\", n_iter = 10, cv = 5, verbose=3, random_state=53)\n",
        "xgb_random.fit(X_train, y_train)"
      ],
      "metadata": {
        "colab": {
          "base_uri": "https://localhost:8080/"
        },
        "id": "Bsx0OxGKPlT-",
        "outputId": "82194cbe-d0d3-4620-8d9c-73cf6cbcb216"
      },
      "execution_count": 24,
      "outputs": [
        {
          "output_type": "stream",
          "name": "stdout",
          "text": [
            "Fitting 5 folds for each of 10 candidates, totalling 50 fits\n",
            "[CV 1/5] END xgbclassifier__max_depth=3, xgbclassifier__min_child_weight=4, xgbclassifier__n_estimators=100;, score=0.929 total time=   2.9s\n",
            "[CV 2/5] END xgbclassifier__max_depth=3, xgbclassifier__min_child_weight=4, xgbclassifier__n_estimators=100;, score=0.932 total time=   2.9s\n",
            "[CV 3/5] END xgbclassifier__max_depth=3, xgbclassifier__min_child_weight=4, xgbclassifier__n_estimators=100;, score=0.927 total time=   3.0s\n",
            "[CV 4/5] END xgbclassifier__max_depth=3, xgbclassifier__min_child_weight=4, xgbclassifier__n_estimators=100;, score=0.931 total time=   3.0s\n",
            "[CV 5/5] END xgbclassifier__max_depth=3, xgbclassifier__min_child_weight=4, xgbclassifier__n_estimators=100;, score=0.927 total time=   3.0s\n",
            "[CV 1/5] END xgbclassifier__max_depth=3, xgbclassifier__min_child_weight=16, xgbclassifier__n_estimators=600;, score=0.953 total time=  16.2s\n",
            "[CV 2/5] END xgbclassifier__max_depth=3, xgbclassifier__min_child_weight=16, xgbclassifier__n_estimators=600;, score=0.953 total time=  16.3s\n",
            "[CV 3/5] END xgbclassifier__max_depth=3, xgbclassifier__min_child_weight=16, xgbclassifier__n_estimators=600;, score=0.950 total time=  19.9s\n",
            "[CV 4/5] END xgbclassifier__max_depth=3, xgbclassifier__min_child_weight=16, xgbclassifier__n_estimators=600;, score=0.951 total time=  16.2s\n",
            "[CV 5/5] END xgbclassifier__max_depth=3, xgbclassifier__min_child_weight=16, xgbclassifier__n_estimators=600;, score=0.951 total time=  16.2s\n",
            "[CV 1/5] END xgbclassifier__max_depth=11, xgbclassifier__min_child_weight=8, xgbclassifier__n_estimators=100;, score=0.957 total time=  11.5s\n",
            "[CV 2/5] END xgbclassifier__max_depth=11, xgbclassifier__min_child_weight=8, xgbclassifier__n_estimators=100;, score=0.957 total time=  11.4s\n",
            "[CV 3/5] END xgbclassifier__max_depth=11, xgbclassifier__min_child_weight=8, xgbclassifier__n_estimators=100;, score=0.955 total time=  11.4s\n",
            "[CV 4/5] END xgbclassifier__max_depth=11, xgbclassifier__min_child_weight=8, xgbclassifier__n_estimators=100;, score=0.956 total time=  11.3s\n",
            "[CV 5/5] END xgbclassifier__max_depth=11, xgbclassifier__min_child_weight=8, xgbclassifier__n_estimators=100;, score=0.955 total time=  12.4s\n",
            "[CV 1/5] END xgbclassifier__max_depth=13, xgbclassifier__min_child_weight=4, xgbclassifier__n_estimators=500;, score=0.956 total time= 1.0min\n",
            "[CV 2/5] END xgbclassifier__max_depth=13, xgbclassifier__min_child_weight=4, xgbclassifier__n_estimators=500;, score=0.956 total time= 1.0min\n",
            "[CV 3/5] END xgbclassifier__max_depth=13, xgbclassifier__min_child_weight=4, xgbclassifier__n_estimators=500;, score=0.955 total time= 1.0min\n",
            "[CV 4/5] END xgbclassifier__max_depth=13, xgbclassifier__min_child_weight=4, xgbclassifier__n_estimators=500;, score=0.955 total time= 1.0min\n",
            "[CV 5/5] END xgbclassifier__max_depth=13, xgbclassifier__min_child_weight=4, xgbclassifier__n_estimators=500;, score=0.953 total time= 1.1min\n",
            "[CV 1/5] END xgbclassifier__max_depth=7, xgbclassifier__min_child_weight=4, xgbclassifier__n_estimators=500;, score=0.957 total time=  31.3s\n",
            "[CV 2/5] END xgbclassifier__max_depth=7, xgbclassifier__min_child_weight=4, xgbclassifier__n_estimators=500;, score=0.957 total time=  31.3s\n",
            "[CV 3/5] END xgbclassifier__max_depth=7, xgbclassifier__min_child_weight=4, xgbclassifier__n_estimators=500;, score=0.955 total time=  32.2s\n",
            "[CV 4/5] END xgbclassifier__max_depth=7, xgbclassifier__min_child_weight=4, xgbclassifier__n_estimators=500;, score=0.956 total time=  31.6s\n",
            "[CV 5/5] END xgbclassifier__max_depth=7, xgbclassifier__min_child_weight=4, xgbclassifier__n_estimators=500;, score=0.954 total time=  32.5s\n",
            "[CV 1/5] END xgbclassifier__max_depth=3, xgbclassifier__min_child_weight=4, xgbclassifier__n_estimators=400;, score=0.949 total time=  11.0s\n",
            "[CV 2/5] END xgbclassifier__max_depth=3, xgbclassifier__min_child_weight=4, xgbclassifier__n_estimators=400;, score=0.952 total time=  10.8s\n",
            "[CV 3/5] END xgbclassifier__max_depth=3, xgbclassifier__min_child_weight=4, xgbclassifier__n_estimators=400;, score=0.949 total time=  10.9s\n",
            "[CV 4/5] END xgbclassifier__max_depth=3, xgbclassifier__min_child_weight=4, xgbclassifier__n_estimators=400;, score=0.950 total time=  11.0s\n",
            "[CV 5/5] END xgbclassifier__max_depth=3, xgbclassifier__min_child_weight=4, xgbclassifier__n_estimators=400;, score=0.948 total time=  10.9s\n",
            "[CV 1/5] END xgbclassifier__max_depth=7, xgbclassifier__min_child_weight=16, xgbclassifier__n_estimators=500;, score=0.957 total time=  30.3s\n",
            "[CV 2/5] END xgbclassifier__max_depth=7, xgbclassifier__min_child_weight=16, xgbclassifier__n_estimators=500;, score=0.956 total time=  30.1s\n",
            "[CV 3/5] END xgbclassifier__max_depth=7, xgbclassifier__min_child_weight=16, xgbclassifier__n_estimators=500;, score=0.955 total time=  30.2s\n",
            "[CV 4/5] END xgbclassifier__max_depth=7, xgbclassifier__min_child_weight=16, xgbclassifier__n_estimators=500;, score=0.955 total time=  31.6s\n",
            "[CV 5/5] END xgbclassifier__max_depth=7, xgbclassifier__min_child_weight=16, xgbclassifier__n_estimators=500;, score=0.955 total time=  30.3s\n",
            "[CV 1/5] END xgbclassifier__max_depth=9, xgbclassifier__min_child_weight=16, xgbclassifier__n_estimators=500;, score=0.957 total time=  39.1s\n",
            "[CV 2/5] END xgbclassifier__max_depth=9, xgbclassifier__min_child_weight=16, xgbclassifier__n_estimators=500;, score=0.956 total time=  39.7s\n",
            "[CV 3/5] END xgbclassifier__max_depth=9, xgbclassifier__min_child_weight=16, xgbclassifier__n_estimators=500;, score=0.954 total time=  39.9s\n",
            "[CV 4/5] END xgbclassifier__max_depth=9, xgbclassifier__min_child_weight=16, xgbclassifier__n_estimators=500;, score=0.955 total time=  41.0s\n",
            "[CV 5/5] END xgbclassifier__max_depth=9, xgbclassifier__min_child_weight=16, xgbclassifier__n_estimators=500;, score=0.955 total time=  39.5s\n",
            "[CV 1/5] END xgbclassifier__max_depth=5, xgbclassifier__min_child_weight=16, xgbclassifier__n_estimators=500;, score=0.956 total time=  21.6s\n",
            "[CV 2/5] END xgbclassifier__max_depth=5, xgbclassifier__min_child_weight=16, xgbclassifier__n_estimators=500;, score=0.957 total time=  21.8s\n",
            "[CV 3/5] END xgbclassifier__max_depth=5, xgbclassifier__min_child_weight=16, xgbclassifier__n_estimators=500;, score=0.956 total time=  21.6s\n",
            "[CV 4/5] END xgbclassifier__max_depth=5, xgbclassifier__min_child_weight=16, xgbclassifier__n_estimators=500;, score=0.957 total time=  21.6s\n",
            "[CV 5/5] END xgbclassifier__max_depth=5, xgbclassifier__min_child_weight=16, xgbclassifier__n_estimators=500;, score=0.954 total time=  23.1s\n",
            "[CV 1/5] END xgbclassifier__max_depth=11, xgbclassifier__min_child_weight=16, xgbclassifier__n_estimators=200;, score=0.957 total time=  20.2s\n",
            "[CV 2/5] END xgbclassifier__max_depth=11, xgbclassifier__min_child_weight=16, xgbclassifier__n_estimators=200;, score=0.958 total time=  20.3s\n",
            "[CV 3/5] END xgbclassifier__max_depth=11, xgbclassifier__min_child_weight=16, xgbclassifier__n_estimators=200;, score=0.955 total time=  20.2s\n",
            "[CV 4/5] END xgbclassifier__max_depth=11, xgbclassifier__min_child_weight=16, xgbclassifier__n_estimators=200;, score=0.956 total time=  20.3s\n",
            "[CV 5/5] END xgbclassifier__max_depth=11, xgbclassifier__min_child_weight=16, xgbclassifier__n_estimators=200;, score=0.955 total time=  20.3s\n"
          ]
        },
        {
          "output_type": "execute_result",
          "data": {
            "text/plain": [
              "RandomizedSearchCV(cv=5,\n",
              "                   estimator=Pipeline(steps=[('ordinalencoder',\n",
              "                                              OrdinalEncoder(mapping=[{'col': 'Gender',\n",
              "                                                                       'mapping': {None: -2,\n",
              "                                                                                   'Female': 1,\n",
              "                                                                                   'Male': 2}},\n",
              "                                                                      {'col': 'Customer_Type',\n",
              "                                                                       'mapping': {None: -2,\n",
              "                                                                                   'Loyal Customer': 2,\n",
              "                                                                                   'disloyal Customer': 1}},\n",
              "                                                                      {'col': 'Type_of_Travel',\n",
              "                                                                       'mapping': {None: -2,\n",
              "                                                                                   'Business travel': 2,\n",
              "                                                                                   'Personal Travel': 1}},\n",
              "                                                                      {'col': 'Class',\n",
              "                                                                       'mapping': {None: -2,\n",
              "                                                                                   '...\n",
              "                                                            monotone_constraints=None,\n",
              "                                                            n_estimators=100,\n",
              "                                                            n_jobs=-1,\n",
              "                                                            num_parallel_tree=None,\n",
              "                                                            predictor=None,\n",
              "                                                            random_state=53,\n",
              "                                                            reg_alpha=None,\n",
              "                                                            reg_lambda=None, ...))]),\n",
              "                   param_distributions={'xgbclassifier__max_depth': array([ 3,  5,  7,  9, 11, 13]),\n",
              "                                        'xgbclassifier__min_child_weight': [4,\n",
              "                                                                            8,\n",
              "                                                                            16],\n",
              "                                        'xgbclassifier__n_estimators': array([100, 200, 300, 400, 500, 600, 700])},\n",
              "                   random_state=53, scoring='f1', verbose=3)"
            ]
          },
          "metadata": {},
          "execution_count": 24
        }
      ]
    },
    {
      "cell_type": "code",
      "source": [
        "xgb_random.best_params_"
      ],
      "metadata": {
        "colab": {
          "base_uri": "https://localhost:8080/"
        },
        "id": "uu99G6A-djBq",
        "outputId": "a91ef71d-5ac1-4b3a-a698-7329015601a4"
      },
      "execution_count": 25,
      "outputs": [
        {
          "output_type": "execute_result",
          "data": {
            "text/plain": [
              "{'xgbclassifier__n_estimators': 100,\n",
              " 'xgbclassifier__min_child_weight': 8,\n",
              " 'xgbclassifier__max_depth': 11}"
            ]
          },
          "metadata": {},
          "execution_count": 25
        }
      ]
    },
    {
      "cell_type": "code",
      "source": [
        "y_pred_xgb = xgb_random.best_estimator_.predict(X_val)\n",
        "y_pred_proba_xgb = xgb_random.best_estimator_.predict_proba(X_val)[:,1]\n",
        "\n",
        "print(\"훈련 auc \", xgb_random.best_estimator_.score(X_train, y_train))\n",
        "eval_models(y_pred_xgb,y_pred_proba_xgb)"
      ],
      "metadata": {
        "colab": {
          "base_uri": "https://localhost:8080/"
        },
        "id": "WjJ_uXTfdpt2",
        "outputId": "fbfcc291-2a88-4da0-9ef0-8fd5e010801d"
      },
      "execution_count": 26,
      "outputs": [
        {
          "output_type": "stream",
          "name": "stdout",
          "text": [
            "훈련 auc  0.9763603334817078\n",
            "accuracy : 0.96\n",
            "precision : 0.98\n",
            "recall : 0.94\n",
            "f1 : 0.96\n",
            "auc score : 0.996\n"
          ]
        },
        {
          "output_type": "execute_result",
          "data": {
            "text/plain": [
              "(0.9647273952167845,\n",
              " 0.9756209751609936,\n",
              " 0.9421432537479179,\n",
              " 0.9585899101745664,\n",
              " 0.9955309022161601)"
            ]
          },
          "metadata": {},
          "execution_count": 26
        }
      ]
    },
    {
      "cell_type": "markdown",
      "source": [
        "## 모델 비교"
      ],
      "metadata": {
        "id": "ZBUDlWBOfnvV"
      }
    },
    {
      "cell_type": "code",
      "source": [
        "comparison_metrics = pd.DataFrame(index=['accuracy', 'precision', 'recall', 'f1', 'auc'], columns=['Base','Logistic', 'Randomforest', 'LGBM', 'XGBoost'])\n",
        "comparison_metrics['Base'] = eval_models(baseline,baseline)\n",
        "comparison_metrics['Logistic'] =eval_models(y_pred_LR,y_pred_proba_LR)\n",
        "comparison_metrics['Randomforest'] =eval_models(y_pred_rf,y_pred_proba_rf)\n",
        "comparison_metrics['LGBM'] =eval_models(y_pred_lgbm,y_pred_proba_lgbm)\n",
        "comparison_metrics['XGBoost'] =eval_models(y_pred_xgb,y_pred_proba_xgb)\n",
        "comparison_metrics.round(3)"
      ],
      "metadata": {
        "colab": {
          "base_uri": "https://localhost:8080/",
          "height": 695
        },
        "id": "NIClV3NGZ1i8",
        "outputId": "7efdcfba-1777-4a97-e822-c32a9f189037"
      },
      "execution_count": 27,
      "outputs": [
        {
          "output_type": "stream",
          "name": "stdout",
          "text": [
            "accuracy : 0.57\n",
            "precision : 0.0\n",
            "recall : 0.0\n",
            "f1 : 0.0\n",
            "auc score : 0.5\n",
            "accuracy : 0.87\n",
            "precision : 0.87\n",
            "recall : 0.83\n",
            "f1 : 0.85\n",
            "auc score : 0.926\n",
            "accuracy : 0.95\n",
            "precision : 0.96\n",
            "recall : 0.93\n",
            "f1 : 0.95\n",
            "auc score : 0.992\n",
            "accuracy : 0.96\n",
            "precision : 0.98\n",
            "recall : 0.94\n",
            "f1 : 0.96\n",
            "auc score : 0.996\n",
            "accuracy : 0.96\n",
            "precision : 0.98\n",
            "recall : 0.94\n",
            "f1 : 0.96\n",
            "auc score : 0.996\n"
          ]
        },
        {
          "output_type": "execute_result",
          "data": {
            "text/plain": [
              "            Base  Logistic  Randomforest   LGBM  XGBoost\n",
              "accuracy   0.567     0.873         0.954  0.965    0.965\n",
              "precision  0.000     0.873         0.960  0.976    0.976\n",
              "recall     0.000     0.829         0.932  0.941    0.942\n",
              "f1         0.000     0.850         0.946  0.958    0.959\n",
              "auc        0.500     0.926         0.992  0.996    0.996"
            ],
            "text/html": [
              "\n",
              "  <div id=\"df-bacbe917-a9d5-4108-b8ad-d9f5629d4c1c\">\n",
              "    <div class=\"colab-df-container\">\n",
              "      <div>\n",
              "<style scoped>\n",
              "    .dataframe tbody tr th:only-of-type {\n",
              "        vertical-align: middle;\n",
              "    }\n",
              "\n",
              "    .dataframe tbody tr th {\n",
              "        vertical-align: top;\n",
              "    }\n",
              "\n",
              "    .dataframe thead th {\n",
              "        text-align: right;\n",
              "    }\n",
              "</style>\n",
              "<table border=\"1\" class=\"dataframe\">\n",
              "  <thead>\n",
              "    <tr style=\"text-align: right;\">\n",
              "      <th></th>\n",
              "      <th>Base</th>\n",
              "      <th>Logistic</th>\n",
              "      <th>Randomforest</th>\n",
              "      <th>LGBM</th>\n",
              "      <th>XGBoost</th>\n",
              "    </tr>\n",
              "  </thead>\n",
              "  <tbody>\n",
              "    <tr>\n",
              "      <th>accuracy</th>\n",
              "      <td>0.567</td>\n",
              "      <td>0.873</td>\n",
              "      <td>0.954</td>\n",
              "      <td>0.965</td>\n",
              "      <td>0.965</td>\n",
              "    </tr>\n",
              "    <tr>\n",
              "      <th>precision</th>\n",
              "      <td>0.000</td>\n",
              "      <td>0.873</td>\n",
              "      <td>0.960</td>\n",
              "      <td>0.976</td>\n",
              "      <td>0.976</td>\n",
              "    </tr>\n",
              "    <tr>\n",
              "      <th>recall</th>\n",
              "      <td>0.000</td>\n",
              "      <td>0.829</td>\n",
              "      <td>0.932</td>\n",
              "      <td>0.941</td>\n",
              "      <td>0.942</td>\n",
              "    </tr>\n",
              "    <tr>\n",
              "      <th>f1</th>\n",
              "      <td>0.000</td>\n",
              "      <td>0.850</td>\n",
              "      <td>0.946</td>\n",
              "      <td>0.958</td>\n",
              "      <td>0.959</td>\n",
              "    </tr>\n",
              "    <tr>\n",
              "      <th>auc</th>\n",
              "      <td>0.500</td>\n",
              "      <td>0.926</td>\n",
              "      <td>0.992</td>\n",
              "      <td>0.996</td>\n",
              "      <td>0.996</td>\n",
              "    </tr>\n",
              "  </tbody>\n",
              "</table>\n",
              "</div>\n",
              "      <button class=\"colab-df-convert\" onclick=\"convertToInteractive('df-bacbe917-a9d5-4108-b8ad-d9f5629d4c1c')\"\n",
              "              title=\"Convert this dataframe to an interactive table.\"\n",
              "              style=\"display:none;\">\n",
              "        \n",
              "  <svg xmlns=\"http://www.w3.org/2000/svg\" height=\"24px\"viewBox=\"0 0 24 24\"\n",
              "       width=\"24px\">\n",
              "    <path d=\"M0 0h24v24H0V0z\" fill=\"none\"/>\n",
              "    <path d=\"M18.56 5.44l.94 2.06.94-2.06 2.06-.94-2.06-.94-.94-2.06-.94 2.06-2.06.94zm-11 1L8.5 8.5l.94-2.06 2.06-.94-2.06-.94L8.5 2.5l-.94 2.06-2.06.94zm10 10l.94 2.06.94-2.06 2.06-.94-2.06-.94-.94-2.06-.94 2.06-2.06.94z\"/><path d=\"M17.41 7.96l-1.37-1.37c-.4-.4-.92-.59-1.43-.59-.52 0-1.04.2-1.43.59L10.3 9.45l-7.72 7.72c-.78.78-.78 2.05 0 2.83L4 21.41c.39.39.9.59 1.41.59.51 0 1.02-.2 1.41-.59l7.78-7.78 2.81-2.81c.8-.78.8-2.07 0-2.86zM5.41 20L4 18.59l7.72-7.72 1.47 1.35L5.41 20z\"/>\n",
              "  </svg>\n",
              "      </button>\n",
              "      \n",
              "  <style>\n",
              "    .colab-df-container {\n",
              "      display:flex;\n",
              "      flex-wrap:wrap;\n",
              "      gap: 12px;\n",
              "    }\n",
              "\n",
              "    .colab-df-convert {\n",
              "      background-color: #E8F0FE;\n",
              "      border: none;\n",
              "      border-radius: 50%;\n",
              "      cursor: pointer;\n",
              "      display: none;\n",
              "      fill: #1967D2;\n",
              "      height: 32px;\n",
              "      padding: 0 0 0 0;\n",
              "      width: 32px;\n",
              "    }\n",
              "\n",
              "    .colab-df-convert:hover {\n",
              "      background-color: #E2EBFA;\n",
              "      box-shadow: 0px 1px 2px rgba(60, 64, 67, 0.3), 0px 1px 3px 1px rgba(60, 64, 67, 0.15);\n",
              "      fill: #174EA6;\n",
              "    }\n",
              "\n",
              "    [theme=dark] .colab-df-convert {\n",
              "      background-color: #3B4455;\n",
              "      fill: #D2E3FC;\n",
              "    }\n",
              "\n",
              "    [theme=dark] .colab-df-convert:hover {\n",
              "      background-color: #434B5C;\n",
              "      box-shadow: 0px 1px 3px 1px rgba(0, 0, 0, 0.15);\n",
              "      filter: drop-shadow(0px 1px 2px rgba(0, 0, 0, 0.3));\n",
              "      fill: #FFFFFF;\n",
              "    }\n",
              "  </style>\n",
              "\n",
              "      <script>\n",
              "        const buttonEl =\n",
              "          document.querySelector('#df-bacbe917-a9d5-4108-b8ad-d9f5629d4c1c button.colab-df-convert');\n",
              "        buttonEl.style.display =\n",
              "          google.colab.kernel.accessAllowed ? 'block' : 'none';\n",
              "\n",
              "        async function convertToInteractive(key) {\n",
              "          const element = document.querySelector('#df-bacbe917-a9d5-4108-b8ad-d9f5629d4c1c');\n",
              "          const dataTable =\n",
              "            await google.colab.kernel.invokeFunction('convertToInteractive',\n",
              "                                                     [key], {});\n",
              "          if (!dataTable) return;\n",
              "\n",
              "          const docLinkHtml = 'Like what you see? Visit the ' +\n",
              "            '<a target=\"_blank\" href=https://colab.research.google.com/notebooks/data_table.ipynb>data table notebook</a>'\n",
              "            + ' to learn more about interactive tables.';\n",
              "          element.innerHTML = '';\n",
              "          dataTable['output_type'] = 'display_data';\n",
              "          await google.colab.output.renderOutput(dataTable, element);\n",
              "          const docLink = document.createElement('div');\n",
              "          docLink.innerHTML = docLinkHtml;\n",
              "          element.appendChild(docLink);\n",
              "        }\n",
              "      </script>\n",
              "    </div>\n",
              "  </div>\n",
              "  "
            ]
          },
          "metadata": {},
          "execution_count": 27
        }
      ]
    },
    {
      "cell_type": "code",
      "source": [
        "\n",
        "fpr, tpr, thresholds = roc_curve(y_val,y_pred_proba_LR)\n",
        "plt.plot(fpr, tpr, label='Logistic Regression', color = 'red',alpha=0.7)\n",
        "\n",
        "fpr, tpr, thresholds = roc_curve(y_val,y_pred_proba_rf)\n",
        "plt.plot(fpr, tpr, label='Randomforest', color = 'blue',lw=1,alpha=0.7)\n",
        "\n",
        "fpr, tpr, thresholds = roc_curve(y_val,y_pred_proba_lgbm)\n",
        "plt.plot(fpr, tpr, label='LGBMClassifier', color = 'green',lw=2,alpha=0.7)\n",
        "\n",
        "fpr, tpr, thresholds = roc_curve(y_val,y_pred_proba_xgb)\n",
        "plt.plot(fpr, tpr, label='XGBClassifier', color = 'purple',lw=1 ,alpha=0.7)\n",
        "\n",
        "fpr, tpr, thresholds = roc_curve(y_val,baseline)\n",
        "plt.plot(fpr, tpr, label='base',linestyle='--', color = 'orange',alpha=0.7)\n",
        "\n",
        "plt.title('ROC curve')\n",
        "plt.xlabel('FPR(Fall-out)')\n",
        "plt.ylabel('TPR(Recall)')\n",
        "plt.legend();"
      ],
      "metadata": {
        "colab": {
          "base_uri": "https://localhost:8080/",
          "height": 571
        },
        "id": "ftbnY1obg1CB",
        "outputId": "2e439706-55d2-4cd1-a193-59c45fd357ec"
      },
      "execution_count": 28,
      "outputs": [
        {
          "output_type": "display_data",
          "data": {
            "text/plain": [
              "<Figure size 864x576 with 1 Axes>"
            ],
            "image/png": "[encoded data removed]"
          },
          "metadata": {
            "needs_background": "light"
          }
        }
      ]
    },
    {
      "cell_type": "markdown",
      "source": [
        "성능은 XGB와 거의 비슷하지만 모델 속도에 뛰어난 모습을 보이는 LGBMClassifier를 최종모델로 선정하겠습니다.  \n",
        "데이터 샘플이 10만개 이상이라 모델의 속도도 중요하다고 판단했습니다."
      ],
      "metadata": {
        "id": "pIsoClfwgak8"
      }
    }
  ]
}